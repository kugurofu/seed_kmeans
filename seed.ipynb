{
  "nbformat": 4,
  "nbformat_minor": 0,
  "metadata": {
    "colab": {
      "provenance": []
    },
    "kernelspec": {
      "name": "python3",
      "display_name": "Python 3"
    },
    "language_info": {
      "name": "python"
    }
  },
  "cells": [
    {
      "cell_type": "markdown",
      "source": [
        "使うもの一部"
      ],
      "metadata": {
        "id": "LDneVd0ARwUM"
      }
    },
    {
      "cell_type": "code",
      "execution_count": 1,
      "metadata": {
        "id": "XBWnrzzWJZvd"
      },
      "outputs": [],
      "source": [
        "import pandas as pd\n",
        "import numpy as np\n",
        "import csv\n",
        "from sklearn.decomposition import PCA\n",
        "from sklearn.preprocessing import StandardScaler"
      ]
    },
    {
      "cell_type": "markdown",
      "source": [
        "csvファイルの読み込み"
      ],
      "metadata": {
        "id": "5FehiGRBRvJY"
      }
    },
    {
      "cell_type": "code",
      "source": [
        "df=pd.read_csv(\"seeds_dataset.csv\",header=None)\n",
        "print(df)"
      ],
      "metadata": {
        "colab": {
          "base_uri": "https://localhost:8080/"
        },
        "id": "m5kuavxWeS63",
        "outputId": "03e12bc1-ade0-4a60-85aa-c93ef8df6882"
      },
      "execution_count": 2,
      "outputs": [
        {
          "output_type": "stream",
          "name": "stdout",
          "text": [
            "         0      1       2      3      4      5      6    7   8   9\n",
            "0    15.26  14.84  0.8710  5.763  3.312  2.221  5.220  1.0 NaN NaN\n",
            "1    14.88  14.57  0.8811  5.554  3.333  1.018  4.956  1.0 NaN NaN\n",
            "2    14.29  14.09  0.9050  5.291  3.337  2.699  4.825  1.0 NaN NaN\n",
            "3    13.84  13.94  0.8955  5.324  3.379  2.259  4.805  1.0 NaN NaN\n",
            "4    16.14  14.99  0.9034  5.658  3.562  1.355  5.175  1.0 NaN NaN\n",
            "..     ...    ...     ...    ...    ...    ...    ...  ...  ..  ..\n",
            "205  12.19  13.20  0.8783  5.137  2.981  3.631  4.870  3.0 NaN NaN\n",
            "206  11.23  12.88  0.8511  5.140  2.795  4.325  5.003  3.0 NaN NaN\n",
            "207  13.20  13.66  0.8883  5.236  3.232  8.315  5.056  3.0 NaN NaN\n",
            "208  11.84  13.21  0.8521  5.175  2.836  3.598  5.044  3.0 NaN NaN\n",
            "209  12.30  13.34  0.8684  5.243  2.974  5.637  5.063  3.0 NaN NaN\n",
            "\n",
            "[210 rows x 10 columns]\n"
          ]
        }
      ]
    },
    {
      "cell_type": "markdown",
      "source": [
        "削除練習"
      ],
      "metadata": {
        "id": "s2HOJ1QbR2Hf"
      }
    },
    {
      "cell_type": "code",
      "source": [
        "print(df.columns[[7,8,9]])\n",
        "\n",
        "print(df.drop(df.columns[[7,8,9]],axis=1))\n",
        "\n",
        "print(df.drop(columns=df.columns[[7,8,9]]))"
      ],
      "metadata": {
        "colab": {
          "base_uri": "https://localhost:8080/"
        },
        "id": "iYDp6rbKho_N",
        "outputId": "a9f5539e-8c71-4336-ab7b-ac9b84ecab63"
      },
      "execution_count": 3,
      "outputs": [
        {
          "output_type": "stream",
          "name": "stdout",
          "text": [
            "Int64Index([7, 8, 9], dtype='int64')\n",
            "         0      1       2      3      4      5      6\n",
            "0    15.26  14.84  0.8710  5.763  3.312  2.221  5.220\n",
            "1    14.88  14.57  0.8811  5.554  3.333  1.018  4.956\n",
            "2    14.29  14.09  0.9050  5.291  3.337  2.699  4.825\n",
            "3    13.84  13.94  0.8955  5.324  3.379  2.259  4.805\n",
            "4    16.14  14.99  0.9034  5.658  3.562  1.355  5.175\n",
            "..     ...    ...     ...    ...    ...    ...    ...\n",
            "205  12.19  13.20  0.8783  5.137  2.981  3.631  4.870\n",
            "206  11.23  12.88  0.8511  5.140  2.795  4.325  5.003\n",
            "207  13.20  13.66  0.8883  5.236  3.232  8.315  5.056\n",
            "208  11.84  13.21  0.8521  5.175  2.836  3.598  5.044\n",
            "209  12.30  13.34  0.8684  5.243  2.974  5.637  5.063\n",
            "\n",
            "[210 rows x 7 columns]\n",
            "         0      1       2      3      4      5      6\n",
            "0    15.26  14.84  0.8710  5.763  3.312  2.221  5.220\n",
            "1    14.88  14.57  0.8811  5.554  3.333  1.018  4.956\n",
            "2    14.29  14.09  0.9050  5.291  3.337  2.699  4.825\n",
            "3    13.84  13.94  0.8955  5.324  3.379  2.259  4.805\n",
            "4    16.14  14.99  0.9034  5.658  3.562  1.355  5.175\n",
            "..     ...    ...     ...    ...    ...    ...    ...\n",
            "205  12.19  13.20  0.8783  5.137  2.981  3.631  4.870\n",
            "206  11.23  12.88  0.8511  5.140  2.795  4.325  5.003\n",
            "207  13.20  13.66  0.8883  5.236  3.232  8.315  5.056\n",
            "208  11.84  13.21  0.8521  5.175  2.836  3.598  5.044\n",
            "209  12.30  13.34  0.8684  5.243  2.974  5.637  5.063\n",
            "\n",
            "[210 rows x 7 columns]\n"
          ]
        }
      ]
    },
    {
      "cell_type": "markdown",
      "source": [
        "削除反映"
      ],
      "metadata": {
        "id": "-5xF7rRyR5OE"
      }
    },
    {
      "cell_type": "code",
      "source": [
        "df.drop(df.columns[[7,8,9]],axis=1,inplace=True)\n",
        "print(df)"
      ],
      "metadata": {
        "colab": {
          "base_uri": "https://localhost:8080/"
        },
        "id": "HzRDKRPA-xGM",
        "outputId": "c5f99ce5-6bd9-4830-9594-777d0877b868"
      },
      "execution_count": 4,
      "outputs": [
        {
          "output_type": "stream",
          "name": "stdout",
          "text": [
            "         0      1       2      3      4      5      6\n",
            "0    15.26  14.84  0.8710  5.763  3.312  2.221  5.220\n",
            "1    14.88  14.57  0.8811  5.554  3.333  1.018  4.956\n",
            "2    14.29  14.09  0.9050  5.291  3.337  2.699  4.825\n",
            "3    13.84  13.94  0.8955  5.324  3.379  2.259  4.805\n",
            "4    16.14  14.99  0.9034  5.658  3.562  1.355  5.175\n",
            "..     ...    ...     ...    ...    ...    ...    ...\n",
            "205  12.19  13.20  0.8783  5.137  2.981  3.631  4.870\n",
            "206  11.23  12.88  0.8511  5.140  2.795  4.325  5.003\n",
            "207  13.20  13.66  0.8883  5.236  3.232  8.315  5.056\n",
            "208  11.84  13.21  0.8521  5.175  2.836  3.598  5.044\n",
            "209  12.30  13.34  0.8684  5.243  2.974  5.637  5.063\n",
            "\n",
            "[210 rows x 7 columns]\n"
          ]
        }
      ]
    },
    {
      "cell_type": "markdown",
      "source": [
        "Nanが含まれている行を削除"
      ],
      "metadata": {
        "id": "Y4DlfGW4R7UN"
      }
    },
    {
      "cell_type": "code",
      "source": [
        "print(df.dropna(how='any'))\n",
        "\n",
        "df.dropna(how='any',inplace=True)"
      ],
      "metadata": {
        "colab": {
          "base_uri": "https://localhost:8080/"
        },
        "id": "RGECW5cJHLHa",
        "outputId": "a37a1198-8e2e-48b4-c55e-25147bea43b9"
      },
      "execution_count": 5,
      "outputs": [
        {
          "output_type": "stream",
          "name": "stdout",
          "text": [
            "         0      1       2      3      4      5      6\n",
            "0    15.26  14.84  0.8710  5.763  3.312  2.221  5.220\n",
            "1    14.88  14.57  0.8811  5.554  3.333  1.018  4.956\n",
            "2    14.29  14.09  0.9050  5.291  3.337  2.699  4.825\n",
            "3    13.84  13.94  0.8955  5.324  3.379  2.259  4.805\n",
            "4    16.14  14.99  0.9034  5.658  3.562  1.355  5.175\n",
            "..     ...    ...     ...    ...    ...    ...    ...\n",
            "205  12.19  13.20  0.8783  5.137  2.981  3.631  4.870\n",
            "206  11.23  12.88  0.8511  5.140  2.795  4.325  5.003\n",
            "207  13.20  13.66  0.8883  5.236  3.232  8.315  5.056\n",
            "208  11.84  13.21  0.8521  5.175  2.836  3.598  5.044\n",
            "209  12.30  13.34  0.8684  5.243  2.974  5.637  5.063\n",
            "\n",
            "[203 rows x 7 columns]\n"
          ]
        }
      ]
    },
    {
      "cell_type": "markdown",
      "source": [
        "確認"
      ],
      "metadata": {
        "id": "z066pSScSGeX"
      }
    },
    {
      "cell_type": "code",
      "source": [
        "print(df)"
      ],
      "metadata": {
        "colab": {
          "base_uri": "https://localhost:8080/"
        },
        "id": "5BaH7V4yHLOp",
        "outputId": "888904d6-e4a9-4b06-a986-456a816f7589"
      },
      "execution_count": 6,
      "outputs": [
        {
          "output_type": "stream",
          "name": "stdout",
          "text": [
            "         0      1       2      3      4      5      6\n",
            "0    15.26  14.84  0.8710  5.763  3.312  2.221  5.220\n",
            "1    14.88  14.57  0.8811  5.554  3.333  1.018  4.956\n",
            "2    14.29  14.09  0.9050  5.291  3.337  2.699  4.825\n",
            "3    13.84  13.94  0.8955  5.324  3.379  2.259  4.805\n",
            "4    16.14  14.99  0.9034  5.658  3.562  1.355  5.175\n",
            "..     ...    ...     ...    ...    ...    ...    ...\n",
            "205  12.19  13.20  0.8783  5.137  2.981  3.631  4.870\n",
            "206  11.23  12.88  0.8511  5.140  2.795  4.325  5.003\n",
            "207  13.20  13.66  0.8883  5.236  3.232  8.315  5.056\n",
            "208  11.84  13.21  0.8521  5.175  2.836  3.598  5.044\n",
            "209  12.30  13.34  0.8684  5.243  2.974  5.637  5.063\n",
            "\n",
            "[203 rows x 7 columns]\n"
          ]
        }
      ]
    },
    {
      "cell_type": "markdown",
      "source": [
        "保存"
      ],
      "metadata": {
        "id": "2ghEIO6lSIRW"
      }
    },
    {
      "cell_type": "code",
      "source": [
        "df.to_csv('seeds_dataset2.csv')"
      ],
      "metadata": {
        "id": "I_TltOX3-3G1"
      },
      "execution_count": 7,
      "outputs": []
    },
    {
      "cell_type": "markdown",
      "source": [
        "標準化"
      ],
      "metadata": {
        "id": "2AOPz5qDSKTH"
      }
    },
    {
      "cell_type": "code",
      "source": [
        "from IPython.display import display\n",
        "scaler=StandardScaler()\n",
        "\n",
        "dfs=scaler.fit_transform(df)"
      ],
      "metadata": {
        "id": "cAsDp6sl_uih"
      },
      "execution_count": 8,
      "outputs": []
    },
    {
      "cell_type": "code",
      "source": [
        "print(dfs)"
      ],
      "metadata": {
        "colab": {
          "base_uri": "https://localhost:8080/"
        },
        "id": "EiF7OCCm_ulg",
        "outputId": "bf0f2c38-4589-4b88-80dc-42ea43dd6f24"
      },
      "execution_count": 9,
      "outputs": [
        {
          "output_type": "stream",
          "name": "stdout",
          "text": [
            "[[ 1.21366145e-01  1.92312169e-01  3.00501835e-03 ...  1.26347878e-01\n",
            "  -9.92457995e-01 -4.06395176e-01]\n",
            " [-9.09907835e-03 -1.43263329e-02  4.36891576e-01 ...  1.81979049e-01\n",
            "  -1.79406080e+00 -9.43498266e-01]\n",
            " [-2.11663505e-01 -3.81683670e-01  1.46361323e+00 ...  1.92575463e-01\n",
            "  -6.73949148e-01 -1.21001533e+00]\n",
            " ...\n",
            " [-5.85892699e-01 -7.10774619e-01  7.46196845e-01 ... -8.55803947e-02\n",
            "   3.06819663e+00 -7.40050126e-01]\n",
            " [-1.05282087e+00 -1.05517212e+00 -8.08921313e-01 ... -1.13462534e+00\n",
            "  -7.49126348e-02 -7.64463902e-01]\n",
            " [-8.94889282e-01 -9.55679510e-01 -1.08688551e-01 ... -7.69049073e-01\n",
            "   1.28374749e+00 -7.25808756e-01]]\n"
          ]
        }
      ]
    },
    {
      "cell_type": "markdown",
      "source": [
        "相関係数"
      ],
      "metadata": {
        "id": "lHHBtdWQSNqe"
      }
    },
    {
      "cell_type": "code",
      "source": [
        "import seaborn as sns\n",
        "\n",
        "corrs = np.corrcoef(dfs,rowvar=False)\n",
        "print(corrs)\n",
        "sns.heatmap(corrs, cmap=sns.color_palette('Reds', 10))"
      ],
      "metadata": {
        "colab": {
          "base_uri": "https://localhost:8080/",
          "height": 707
        },
        "id": "J7SWtk0m_un2",
        "outputId": "3d2a0673-d326-449b-bb94-e594ef1be756"
      },
      "execution_count": 10,
      "outputs": [
        {
          "output_type": "stream",
          "name": "stdout",
          "text": [
            "[[ 1.          0.9944388   0.61231458  0.95180163  0.97127861 -0.23035648\n",
            "   0.86489414]\n",
            " [ 0.9944388   1.          0.53445932  0.97341603  0.94588472 -0.22121046\n",
            "   0.89093928]\n",
            " [ 0.61231458  0.53445932  1.          0.37884283  0.76335061 -0.31167077\n",
            "   0.23618371]\n",
            " [ 0.95180163  0.97341603  0.37884283  1.          0.86435795 -0.18336856\n",
            "   0.93252081]\n",
            " [ 0.97127861  0.94588472  0.76335061  0.86435795  1.         -0.2542434\n",
            "   0.75228668]\n",
            " [-0.23035648 -0.22121046 -0.31167077 -0.18336856 -0.2542434   1.\n",
            "  -0.02092721]\n",
            " [ 0.86489414  0.89093928  0.23618371  0.93252081  0.75228668 -0.02092721\n",
            "   1.        ]]\n"
          ]
        },
        {
          "output_type": "execute_result",
          "data": {
            "text/plain": [
              "<Axes: >"
            ]
          },
          "metadata": {},
          "execution_count": 10
        },
        {
          "output_type": "display_data",
          "data": {
            "text/plain": [
              "<Figure size 640x480 with 2 Axes>"
            ],
            "image/png": "[encoded data removed]"
          },
          "metadata": {}
        }
      ]
    },
    {
      "cell_type": "markdown",
      "source": [
        "主成分分析"
      ],
      "metadata": {
        "id": "KjtpqYG7SQMe"
      }
    },
    {
      "cell_type": "code",
      "source": [
        "pca=PCA()\n",
        "pca.fit(dfs)"
      ],
      "metadata": {
        "colab": {
          "base_uri": "https://localhost:8080/",
          "height": 74
        },
        "id": "M7xzFKSWJz5A",
        "outputId": "1c893716-bca7-4e78-c903-7941071a6e9c"
      },
      "execution_count": 11,
      "outputs": [
        {
          "output_type": "execute_result",
          "data": {
            "text/plain": [
              "PCA()"
            ],
            "text/html": [
              "<style>#sk-container-id-1 {color: black;background-color: white;}#sk-container-id-1 pre{padding: 0;}#sk-container-id-1 div.sk-toggleable {background-color: white;}#sk-container-id-1 label.sk-toggleable__label {cursor: pointer;display: block;width: 100%;margin-bottom: 0;padding: 0.3em;box-sizing: border-box;text-align: center;}#sk-container-id-1 label.sk-toggleable__label-arrow:before {content: \"▸\";float: left;margin-right: 0.25em;color: #696969;}#sk-container-id-1 label.sk-toggleable__label-arrow:hover:before {color: black;}#sk-container-id-1 div.sk-estimator:hover label.sk-toggleable__label-arrow:before {color: black;}#sk-container-id-1 div.sk-toggleable__content {max-height: 0;max-width: 0;overflow: hidden;text-align: left;background-color: #f0f8ff;}#sk-container-id-1 div.sk-toggleable__content pre {margin: 0.2em;color: black;border-radius: 0.25em;background-color: #f0f8ff;}#sk-container-id-1 input.sk-toggleable__control:checked~div.sk-toggleable__content {max-height: 200px;max-width: 100%;overflow: auto;}#sk-container-id-1 input.sk-toggleable__control:checked~label.sk-toggleable__label-arrow:before {content: \"▾\";}#sk-container-id-1 div.sk-estimator input.sk-toggleable__control:checked~label.sk-toggleable__label {background-color: #d4ebff;}#sk-container-id-1 div.sk-label input.sk-toggleable__control:checked~label.sk-toggleable__label {background-color: #d4ebff;}#sk-container-id-1 input.sk-hidden--visually {border: 0;clip: rect(1px 1px 1px 1px);clip: rect(1px, 1px, 1px, 1px);height: 1px;margin: -1px;overflow: hidden;padding: 0;position: absolute;width: 1px;}#sk-container-id-1 div.sk-estimator {font-family: monospace;background-color: #f0f8ff;border: 1px dotted black;border-radius: 0.25em;box-sizing: border-box;margin-bottom: 0.5em;}#sk-container-id-1 div.sk-estimator:hover {background-color: #d4ebff;}#sk-container-id-1 div.sk-parallel-item::after {content: \"\";width: 100%;border-bottom: 1px solid gray;flex-grow: 1;}#sk-container-id-1 div.sk-label:hover label.sk-toggleable__label {background-color: #d4ebff;}#sk-container-id-1 div.sk-serial::before {content: \"\";position: absolute;border-left: 1px solid gray;box-sizing: border-box;top: 0;bottom: 0;left: 50%;z-index: 0;}#sk-container-id-1 div.sk-serial {display: flex;flex-direction: column;align-items: center;background-color: white;padding-right: 0.2em;padding-left: 0.2em;position: relative;}#sk-container-id-1 div.sk-item {position: relative;z-index: 1;}#sk-container-id-1 div.sk-parallel {display: flex;align-items: stretch;justify-content: center;background-color: white;position: relative;}#sk-container-id-1 div.sk-item::before, #sk-container-id-1 div.sk-parallel-item::before {content: \"\";position: absolute;border-left: 1px solid gray;box-sizing: border-box;top: 0;bottom: 0;left: 50%;z-index: -1;}#sk-container-id-1 div.sk-parallel-item {display: flex;flex-direction: column;z-index: 1;position: relative;background-color: white;}#sk-container-id-1 div.sk-parallel-item:first-child::after {align-self: flex-end;width: 50%;}#sk-container-id-1 div.sk-parallel-item:last-child::after {align-self: flex-start;width: 50%;}#sk-container-id-1 div.sk-parallel-item:only-child::after {width: 0;}#sk-container-id-1 div.sk-dashed-wrapped {border: 1px dashed gray;margin: 0 0.4em 0.5em 0.4em;box-sizing: border-box;padding-bottom: 0.4em;background-color: white;}#sk-container-id-1 div.sk-label label {font-family: monospace;font-weight: bold;display: inline-block;line-height: 1.2em;}#sk-container-id-1 div.sk-label-container {text-align: center;}#sk-container-id-1 div.sk-container {/* jupyter's `normalize.less` sets `[hidden] { display: none; }` but bootstrap.min.css set `[hidden] { display: none !important; }` so we also need the `!important` here to be able to override the default hidden behavior on the sphinx rendered scikit-learn.org. See: https://github.com/scikit-learn/scikit-learn/issues/21755 */display: inline-block !important;position: relative;}#sk-container-id-1 div.sk-text-repr-fallback {display: none;}</style><div id=\"sk-container-id-1\" class=\"sk-top-container\"><div class=\"sk-text-repr-fallback\"><pre>PCA()</pre><b>In a Jupyter environment, please rerun this cell to show the HTML representation or trust the notebook. <br />On GitHub, the HTML representation is unable to render, please try loading this page with nbviewer.org.</b></div><div class=\"sk-container\" hidden><div class=\"sk-item\"><div class=\"sk-estimator sk-toggleable\"><input class=\"sk-toggleable__control sk-hidden--visually\" id=\"sk-estimator-id-1\" type=\"checkbox\" checked><label for=\"sk-estimator-id-1\" class=\"sk-toggleable__label sk-toggleable__label-arrow\">PCA</label><div class=\"sk-toggleable__content\"><pre>PCA()</pre></div></div></div></div></div>"
            ]
          },
          "metadata": {},
          "execution_count": 11
        }
      ]
    },
    {
      "cell_type": "markdown",
      "source": [
        "寄与率と累積寄与率"
      ],
      "metadata": {
        "id": "rJQNSD3ESTJu"
      }
    },
    {
      "cell_type": "code",
      "source": [
        "ev = pd.DataFrame(pca.explained_variance_ratio_)\n",
        "print(ev)\n",
        "t_ev = pd.DataFrame(pca.explained_variance_ratio_.cumsum())\n",
        "print(t_ev)"
      ],
      "metadata": {
        "colab": {
          "base_uri": "https://localhost:8080/"
        },
        "id": "0VmVjTD7J0Cz",
        "outputId": "ffe6e9fa-0bf4-44f5-a85a-675106904f2f"
      },
      "execution_count": 12,
      "outputs": [
        {
          "output_type": "stream",
          "name": "stdout",
          "text": [
            "          0\n",
            "0  0.720561\n",
            "1  0.166547\n",
            "2  0.099508\n",
            "3  0.009835\n",
            "4  0.002681\n",
            "5  0.000753\n",
            "6  0.000115\n",
            "          0\n",
            "0  0.720561\n",
            "1  0.887108\n",
            "2  0.986616\n",
            "3  0.996451\n",
            "4  0.999132\n",
            "5  0.999885\n",
            "6  1.000000\n"
          ]
        }
      ]
    },
    {
      "cell_type": "code",
      "source": [
        "length=7\n",
        "kiyoritu=ev*100\n",
        "ruiseki=t_ev*100\n",
        "xlab=np.array([1,2,3,4,5,6,7])"
      ],
      "metadata": {
        "id": "yAldtAV7Q8BQ"
      },
      "execution_count": 13,
      "outputs": []
    },
    {
      "cell_type": "code",
      "source": [
        "import matplotlib.pyplot as plt\n",
        "import pylab as pl\n",
        "\n",
        "# サイズ指定\n",
        "fig = plt.figure()\n",
        "# 軸関係の表示\n",
        "ax = fig.add_subplot(111)\n",
        "\n",
        "# データ数のカウント\n",
        "data_num=length\n",
        "\n",
        "# 棒グラフの描画\n",
        "ax.bar(range(data_num), kiyoritu[0])\n",
        "ax.set_xticks(range(data_num))\n",
        "ax.set_xticklabels(xlab)\n",
        "ax.set_ylim([0,100])\n",
        "\n",
        "# 折れ線グラフの描画\n",
        "ax_add = ax.twinx()\n",
        "ax_add.plot(range(data_num), ruiseki[0])\n",
        "ax_add.set_ylim([0, 100])"
      ],
      "metadata": {
        "colab": {
          "base_uri": "https://localhost:8080/",
          "height": 453
        },
        "id": "F956snxpJ0GL",
        "outputId": "d6a27846-9f98-472d-f52c-2871c4b0438f"
      },
      "execution_count": 14,
      "outputs": [
        {
          "output_type": "execute_result",
          "data": {
            "text/plain": [
              "(0.0, 100.0)"
            ]
          },
          "metadata": {},
          "execution_count": 14
        },
        {
          "output_type": "display_data",
          "data": {
            "text/plain": [
              "<Figure size 640x480 with 2 Axes>"
            ],
            "image/png": "[encoded data removed]"
          },
          "metadata": {}
        }
      ]
    },
    {
      "cell_type": "markdown",
      "source": [
        "pcs/pcaの確認"
      ],
      "metadata": {
        "id": "f327jhrmSXl0"
      }
    },
    {
      "cell_type": "code",
      "source": [
        "print('第1主成分', pca.components_[0])\n",
        "print('第2主成分', pca.components_[1])\n",
        "pca\n",
        "pcs=pca.transform(dfs)\n",
        "print(pcs)\n",
        "pcs"
      ],
      "metadata": {
        "colab": {
          "base_uri": "https://localhost:8080/"
        },
        "id": "mZJEikTSWZDt",
        "outputId": "0219b5e5-9392-4d67-b786-7b699d8ea330"
      },
      "execution_count": 15,
      "outputs": [
        {
          "output_type": "stream",
          "name": "stdout",
          "text": [
            "第1主成分 [ 0.44387968  0.44099738  0.27864832  0.42386439  0.43248624 -0.11929817\n",
            "  0.38718191]\n",
            "第2主成分 [-0.02827866 -0.08341264  0.51826746 -0.19909129  0.11204425 -0.72757429\n",
            " -0.37694281]\n",
            "[[ 2.72759925e-01  8.16302292e-01 -6.11961692e-01 ... -1.11143283e-01\n",
            "   2.41502779e-02 -1.35665992e-02]\n",
            " [-4.38527689e-02  1.94805251e+00 -6.28872797e-01 ...  4.23118551e-02\n",
            "   1.67227655e-02 -4.69506226e-03]\n",
            " [-4.93849577e-01  1.92156061e+00  9.81335328e-01 ... -5.13111069e-03\n",
            "  -5.38373182e-02 -4.50639304e-03]\n",
            " ...\n",
            " [-1.44245180e+00 -1.31847752e+00  2.89445226e+00 ... -2.21277208e-02\n",
            "   8.72792104e-02 -3.25161623e-02]\n",
            " [-2.38153841e+00  1.23442080e-01 -3.80485884e-01 ...  6.35837208e-02\n",
            "  -5.22451336e-02  1.47396288e-02]\n",
            " [-1.99631360e+00 -5.19147880e-01  1.00980564e+00 ... -1.09498969e-01\n",
            "   1.28628125e-02  6.69917515e-05]]\n"
          ]
        },
        {
          "output_type": "execute_result",
          "data": {
            "text/plain": [
              "array([[ 2.72759925e-01,  8.16302292e-01, -6.11961692e-01, ...,\n",
              "        -1.11143283e-01,  2.41502779e-02, -1.35665992e-02],\n",
              "       [-4.38527689e-02,  1.94805251e+00, -6.28872797e-01, ...,\n",
              "         4.23118551e-02,  1.67227655e-02, -4.69506226e-03],\n",
              "       [-4.93849577e-01,  1.92156061e+00,  9.81335328e-01, ...,\n",
              "        -5.13111069e-03, -5.38373182e-02, -4.50639304e-03],\n",
              "       ...,\n",
              "       [-1.44245180e+00, -1.31847752e+00,  2.89445226e+00, ...,\n",
              "        -2.21277208e-02,  8.72792104e-02, -3.25161623e-02],\n",
              "       [-2.38153841e+00,  1.23442080e-01, -3.80485884e-01, ...,\n",
              "         6.35837208e-02, -5.22451336e-02,  1.47396288e-02],\n",
              "       [-1.99631360e+00, -5.19147880e-01,  1.00980564e+00, ...,\n",
              "        -1.09498969e-01,  1.28628125e-02,  6.69917515e-05]])"
            ]
          },
          "metadata": {},
          "execution_count": 15
        }
      ]
    },
    {
      "cell_type": "code",
      "source": [
        "print('第1主成分', pca.components_[0])\n",
        "print('第2主成分', pca.components_[1])\n",
        "pca\n",
        "pcs=pca.transform(dfs)\n",
        "print(pcs)"
      ],
      "metadata": {
        "colab": {
          "base_uri": "https://localhost:8080/"
        },
        "id": "rF-ud3GPfH23",
        "outputId": "49287850-8526-4478-bb2a-7e90ef9d81c0"
      },
      "execution_count": 16,
      "outputs": [
        {
          "output_type": "stream",
          "name": "stdout",
          "text": [
            "第1主成分 [ 0.44387968  0.44099738  0.27864832  0.42386439  0.43248624 -0.11929817\n",
            "  0.38718191]\n",
            "第2主成分 [-0.02827866 -0.08341264  0.51826746 -0.19909129  0.11204425 -0.72757429\n",
            " -0.37694281]\n",
            "[[ 2.72759925e-01  8.16302292e-01 -6.11961692e-01 ... -1.11143283e-01\n",
            "   2.41502779e-02 -1.35665992e-02]\n",
            " [-4.38527689e-02  1.94805251e+00 -6.28872797e-01 ...  4.23118551e-02\n",
            "   1.67227655e-02 -4.69506226e-03]\n",
            " [-4.93849577e-01  1.92156061e+00  9.81335328e-01 ... -5.13111069e-03\n",
            "  -5.38373182e-02 -4.50639304e-03]\n",
            " ...\n",
            " [-1.44245180e+00 -1.31847752e+00  2.89445226e+00 ... -2.21277208e-02\n",
            "   8.72792104e-02 -3.25161623e-02]\n",
            " [-2.38153841e+00  1.23442080e-01 -3.80485884e-01 ...  6.35837208e-02\n",
            "  -5.22451336e-02  1.47396288e-02]\n",
            " [-1.99631360e+00 -5.19147880e-01  1.00980564e+00 ... -1.09498969e-01\n",
            "   1.28628125e-02  6.69917515e-05]]\n"
          ]
        }
      ]
    },
    {
      "cell_type": "markdown",
      "source": [
        "主成分の第一成分と第二成分の抜き出し"
      ],
      "metadata": {
        "id": "BI2kZOzcSdWN"
      }
    },
    {
      "cell_type": "code",
      "source": [
        "print(pcs[:,:2])\n",
        "pcs2=pcs[:,:2]\n",
        "print(pcs2)"
      ],
      "metadata": {
        "colab": {
          "base_uri": "https://localhost:8080/"
        },
        "id": "PzN1JDE6bC3e",
        "outputId": "62ecc694-7498-4795-f0fa-5c66f2098eae"
      },
      "execution_count": 17,
      "outputs": [
        {
          "output_type": "stream",
          "name": "stdout",
          "text": [
            "[[ 0.27275992  0.81630229]\n",
            " [-0.04385277  1.94805251]\n",
            " [-0.49384958  1.92156061]\n",
            " [-0.62781988  1.95026634]\n",
            " [ 1.06457375  2.09534909]\n",
            " [-0.37374848  1.65688234]\n",
            " [-0.18730219  0.45559256]\n",
            " [ 1.72010054  0.34463533]\n",
            " [ 1.39808223  1.04214436]\n",
            " [ 0.02170129 -0.41204997]\n",
            " [-0.61219581  1.58870509]\n",
            " [-0.96910182  0.88663603]\n",
            " [-0.95503289  0.8943171 ]\n",
            " [-1.04851123  0.98307586]\n",
            " [-0.55212776  1.0647443 ]\n",
            " [-0.81635027  1.13298228]\n",
            " [ 0.64222729  2.1938041 ]\n",
            " [-0.26670798  2.80304025]\n",
            " [-1.77799156  0.35490276]\n",
            " [-0.6067627   0.18863815]\n",
            " [-0.51955754  0.73216771]\n",
            " [ 0.8189043   2.35328334]\n",
            " [-2.01711626  1.6240823 ]\n",
            " [-0.04596653  1.05066585]\n",
            " [ 1.05412083  1.66943483]\n",
            " [-1.59862883  0.57848196]\n",
            " [-1.74030874  0.78229012]\n",
            " [-0.49623147  1.06855554]\n",
            " [-1.12734539  0.1472713 ]\n",
            " [-1.15170035  1.62191411]\n",
            " [ 0.33179524  0.27552438]\n",
            " [-0.52859057 -0.44884755]\n",
            " [-0.64523794  1.15051007]\n",
            " [ 0.35642123  0.94711411]\n",
            " [ 1.01834091  0.32264089]\n",
            " [ 1.81476921  1.10599226]\n",
            " [ 0.0992034   0.63358626]\n",
            " [-0.71662091 -0.44614256]\n",
            " [-0.76922348  1.24985064]\n",
            " [-0.76760492  1.37257995]\n",
            " [-1.21393603  2.05178948]\n",
            " [ 0.69788369 -0.41213424]\n",
            " [ 0.37101883  1.16967079]\n",
            " [-0.82126484  1.71517951]\n",
            " [ 0.47373055  1.69008103]\n",
            " [ 0.13975466  1.00530906]\n",
            " [-0.13353739  1.02525751]\n",
            " [ 0.08093643  0.72169809]\n",
            " [-0.36879182  0.21987887]\n",
            " [ 0.35090431 -0.21308737]\n",
            " [-0.41408115 -0.63563887]\n",
            " [-0.37554899  0.67372384]\n",
            " [-0.08408865  0.60299786]\n",
            " [ 0.17423559  0.67667261]\n",
            " [-0.35483516  1.13712561]\n",
            " [ 0.17019804  2.32935002]\n",
            " [ 0.48844884  1.33018906]\n",
            " [-2.44476133  1.30116274]\n",
            " [-2.66361414  1.91803926]\n",
            " [-2.00240923  1.64030335]\n",
            " [-1.29920656  0.08954303]\n",
            " [-1.59618421  1.91786872]\n",
            " [-1.65206124  1.93129088]\n",
            " [-0.25706321  1.40838147]\n",
            " [-0.59807603  0.76731025]\n",
            " [-0.24041265  1.23503945]\n",
            " [-1.83604654 -0.13904648]\n",
            " [ 2.1839075  -1.02403499]\n",
            " [ 1.43416496 -1.19397245]\n",
            " [ 1.73594461 -0.71664562]\n",
            " [ 3.48526049  0.5163894 ]\n",
            " [ 1.61770864 -0.4756969 ]\n",
            " [ 1.21979324 -1.19430553]\n",
            " [ 1.63310592 -0.94306397]\n",
            " [ 4.12263843 -1.51449781]\n",
            " [ 3.13988135 -1.69960174]\n",
            " [ 1.75176095  0.48217057]\n",
            " [ 1.31188819 -1.09209478]\n",
            " [ 2.70492448 -0.66632717]\n",
            " [ 3.59727696 -1.19662845]\n",
            " [ 3.66435787  0.21949974]\n",
            " [ 3.47450526 -0.41394953]\n",
            " [ 2.87798434  0.12277876]\n",
            " [ 3.18483636  0.85243038]\n",
            " [ 3.3632411  -1.54331746]\n",
            " [ 4.42426535 -1.42250607]\n",
            " [ 4.38747547 -0.95944755]\n",
            " [ 4.09385361 -0.32899334]\n",
            " [ 3.12416929  0.19051573]\n",
            " [ 3.0372813  -0.1216663 ]\n",
            " [ 2.72214024 -0.79771565]\n",
            " [ 2.81832003 -2.50695194]\n",
            " [ 1.72164036 -0.80139341]\n",
            " [ 3.43259452 -0.60282371]\n",
            " [ 3.30552042 -0.52712819]\n",
            " [ 2.60310891 -0.74826816]\n",
            " [ 2.98248961  0.15827651]\n",
            " [ 1.12890375 -0.06314284]\n",
            " [ 2.42812695  1.00978446]\n",
            " [ 3.25766855 -0.32037465]\n",
            " [ 3.19044921 -0.80811395]\n",
            " [ 3.12278245 -0.40992199]\n",
            " [ 2.8522418   0.5010195 ]\n",
            " [ 3.3440589   0.38538744]\n",
            " [ 2.08078802 -0.39900026]\n",
            " [ 4.09432486 -1.06469075]\n",
            " [ 2.78310347  0.69061111]\n",
            " [ 2.74764467  0.70727915]\n",
            " [ 3.07943653 -0.70884772]\n",
            " [ 3.38946502  0.90903239]\n",
            " [ 2.73942324 -2.20622003]\n",
            " [ 4.34708353 -1.25086366]\n",
            " [ 3.40013374  0.0879619 ]\n",
            " [ 2.93059751  0.12386127]\n",
            " [ 3.35399654 -0.14949674]\n",
            " [ 3.09480015  0.02311427]\n",
            " [ 3.93911687 -0.55512488]\n",
            " [ 3.69764802 -1.52973277]\n",
            " [ 2.30096221 -0.49838536]\n",
            " [ 0.74893873 -0.84745418]\n",
            " [ 2.78923925  0.67386288]\n",
            " [ 0.60230241  1.37201959]\n",
            " [ 3.0261039  -0.19659592]\n",
            " [ 2.65030513 -1.223152  ]\n",
            " [ 2.55123014  0.81610978]\n",
            " [ 3.82006248 -0.10531179]\n",
            " [ 1.79215013 -0.39597439]\n",
            " [ 2.8168315   0.77250687]\n",
            " [ 3.08315885  0.29133926]\n",
            " [ 0.6468023  -0.79251803]\n",
            " [ 0.96030821 -0.81531351]\n",
            " [ 0.86827367 -0.7301169 ]\n",
            " [ 2.14702122 -0.39855522]\n",
            " [ 0.74896184 -0.41712896]\n",
            " [ 0.67539517 -0.18476017]\n",
            " [ 1.42057251 -0.19351082]\n",
            " [-1.39713666 -1.20810696]\n",
            " [-1.13862654 -1.79700856]\n",
            " [-1.29037893 -1.10736988]\n",
            " [-1.94196813 -0.62158838]\n",
            " [-2.51441668 -1.04447682]\n",
            " [-3.02180124 -2.16810514]\n",
            " [-2.64798125  0.28333324]\n",
            " [-1.89439727  0.03689121]\n",
            " [-1.58845491 -0.10102414]\n",
            " [-3.24101645 -1.90864173]\n",
            " [-2.23713789 -0.9477373 ]\n",
            " [-2.51679114 -2.44364249]\n",
            " [-2.03432054 -1.23357393]\n",
            " [-2.9781983  -0.32779414]\n",
            " [-2.63114376 -0.58131089]\n",
            " [-3.006245   -1.74630677]\n",
            " [-2.5970291   0.52886537]\n",
            " [-2.54190988 -1.7475795 ]\n",
            " [-2.5919377  -1.62295162]\n",
            " [-2.71106996 -1.61991095]\n",
            " [-1.52774046 -0.33051482]\n",
            " [-2.04284365 -0.54123397]\n",
            " [-2.41590976 -0.83868844]\n",
            " [-1.76624131 -0.35522425]\n",
            " [-3.00874642 -1.05569887]\n",
            " [-1.86282212  1.46107483]\n",
            " [-1.95202594 -0.90086059]\n",
            " [-1.88528775 -0.42199715]\n",
            " [-2.9428555  -0.85420867]\n",
            " [-2.85631438 -1.45105838]\n",
            " [-2.92966099 -0.37627704]\n",
            " [-2.91097713 -1.1924455 ]\n",
            " [-3.26458275 -1.7706378 ]\n",
            " [-2.95490308 -0.17336457]\n",
            " [-2.97022953 -1.14901881]\n",
            " [-3.34358076 -0.77990609]\n",
            " [-2.84660419 -1.06730516]\n",
            " [-1.81961764  0.72319583]\n",
            " [-2.91998894 -0.23972307]\n",
            " [-1.76157168 -0.20956791]\n",
            " [-2.07252425 -0.46577755]\n",
            " [-2.49762727 -0.56206088]\n",
            " [-1.47574187 -1.42835544]\n",
            " [-2.70048461 -1.06014448]\n",
            " [-2.46197365 -1.61988225]\n",
            " [-3.22330846 -0.39592332]\n",
            " [-2.998932   -1.48560849]\n",
            " [-3.31693651  0.10318539]\n",
            " [-3.21762276 -0.98391275]\n",
            " [-2.71802113  0.11848183]\n",
            " [-1.95084808  0.73239594]\n",
            " [-3.27799458 -1.13873939]\n",
            " [-2.02885845  0.15917169]\n",
            " [-1.62755832  0.42667199]\n",
            " [-1.73242676 -0.12146101]\n",
            " [-1.13810797  0.26813715]\n",
            " [-1.67373928 -0.08787314]\n",
            " [-1.4932578   1.76796083]\n",
            " [-2.04701722 -0.58424207]\n",
            " [-2.85213137  0.52813521]\n",
            " [-1.88143571 -1.36111794]\n",
            " [-2.0474936   0.10522314]\n",
            " [-2.02790885  0.8815821 ]\n",
            " [-2.76843767 -0.18926865]\n",
            " [-1.4424518  -1.31847752]\n",
            " [-2.38153841  0.12344208]\n",
            " [-1.9963136  -0.51914788]]\n",
            "[[ 0.27275992  0.81630229]\n",
            " [-0.04385277  1.94805251]\n",
            " [-0.49384958  1.92156061]\n",
            " [-0.62781988  1.95026634]\n",
            " [ 1.06457375  2.09534909]\n",
            " [-0.37374848  1.65688234]\n",
            " [-0.18730219  0.45559256]\n",
            " [ 1.72010054  0.34463533]\n",
            " [ 1.39808223  1.04214436]\n",
            " [ 0.02170129 -0.41204997]\n",
            " [-0.61219581  1.58870509]\n",
            " [-0.96910182  0.88663603]\n",
            " [-0.95503289  0.8943171 ]\n",
            " [-1.04851123  0.98307586]\n",
            " [-0.55212776  1.0647443 ]\n",
            " [-0.81635027  1.13298228]\n",
            " [ 0.64222729  2.1938041 ]\n",
            " [-0.26670798  2.80304025]\n",
            " [-1.77799156  0.35490276]\n",
            " [-0.6067627   0.18863815]\n",
            " [-0.51955754  0.73216771]\n",
            " [ 0.8189043   2.35328334]\n",
            " [-2.01711626  1.6240823 ]\n",
            " [-0.04596653  1.05066585]\n",
            " [ 1.05412083  1.66943483]\n",
            " [-1.59862883  0.57848196]\n",
            " [-1.74030874  0.78229012]\n",
            " [-0.49623147  1.06855554]\n",
            " [-1.12734539  0.1472713 ]\n",
            " [-1.15170035  1.62191411]\n",
            " [ 0.33179524  0.27552438]\n",
            " [-0.52859057 -0.44884755]\n",
            " [-0.64523794  1.15051007]\n",
            " [ 0.35642123  0.94711411]\n",
            " [ 1.01834091  0.32264089]\n",
            " [ 1.81476921  1.10599226]\n",
            " [ 0.0992034   0.63358626]\n",
            " [-0.71662091 -0.44614256]\n",
            " [-0.76922348  1.24985064]\n",
            " [-0.76760492  1.37257995]\n",
            " [-1.21393603  2.05178948]\n",
            " [ 0.69788369 -0.41213424]\n",
            " [ 0.37101883  1.16967079]\n",
            " [-0.82126484  1.71517951]\n",
            " [ 0.47373055  1.69008103]\n",
            " [ 0.13975466  1.00530906]\n",
            " [-0.13353739  1.02525751]\n",
            " [ 0.08093643  0.72169809]\n",
            " [-0.36879182  0.21987887]\n",
            " [ 0.35090431 -0.21308737]\n",
            " [-0.41408115 -0.63563887]\n",
            " [-0.37554899  0.67372384]\n",
            " [-0.08408865  0.60299786]\n",
            " [ 0.17423559  0.67667261]\n",
            " [-0.35483516  1.13712561]\n",
            " [ 0.17019804  2.32935002]\n",
            " [ 0.48844884  1.33018906]\n",
            " [-2.44476133  1.30116274]\n",
            " [-2.66361414  1.91803926]\n",
            " [-2.00240923  1.64030335]\n",
            " [-1.29920656  0.08954303]\n",
            " [-1.59618421  1.91786872]\n",
            " [-1.65206124  1.93129088]\n",
            " [-0.25706321  1.40838147]\n",
            " [-0.59807603  0.76731025]\n",
            " [-0.24041265  1.23503945]\n",
            " [-1.83604654 -0.13904648]\n",
            " [ 2.1839075  -1.02403499]\n",
            " [ 1.43416496 -1.19397245]\n",
            " [ 1.73594461 -0.71664562]\n",
            " [ 3.48526049  0.5163894 ]\n",
            " [ 1.61770864 -0.4756969 ]\n",
            " [ 1.21979324 -1.19430553]\n",
            " [ 1.63310592 -0.94306397]\n",
            " [ 4.12263843 -1.51449781]\n",
            " [ 3.13988135 -1.69960174]\n",
            " [ 1.75176095  0.48217057]\n",
            " [ 1.31188819 -1.09209478]\n",
            " [ 2.70492448 -0.66632717]\n",
            " [ 3.59727696 -1.19662845]\n",
            " [ 3.66435787  0.21949974]\n",
            " [ 3.47450526 -0.41394953]\n",
            " [ 2.87798434  0.12277876]\n",
            " [ 3.18483636  0.85243038]\n",
            " [ 3.3632411  -1.54331746]\n",
            " [ 4.42426535 -1.42250607]\n",
            " [ 4.38747547 -0.95944755]\n",
            " [ 4.09385361 -0.32899334]\n",
            " [ 3.12416929  0.19051573]\n",
            " [ 3.0372813  -0.1216663 ]\n",
            " [ 2.72214024 -0.79771565]\n",
            " [ 2.81832003 -2.50695194]\n",
            " [ 1.72164036 -0.80139341]\n",
            " [ 3.43259452 -0.60282371]\n",
            " [ 3.30552042 -0.52712819]\n",
            " [ 2.60310891 -0.74826816]\n",
            " [ 2.98248961  0.15827651]\n",
            " [ 1.12890375 -0.06314284]\n",
            " [ 2.42812695  1.00978446]\n",
            " [ 3.25766855 -0.32037465]\n",
            " [ 3.19044921 -0.80811395]\n",
            " [ 3.12278245 -0.40992199]\n",
            " [ 2.8522418   0.5010195 ]\n",
            " [ 3.3440589   0.38538744]\n",
            " [ 2.08078802 -0.39900026]\n",
            " [ 4.09432486 -1.06469075]\n",
            " [ 2.78310347  0.69061111]\n",
            " [ 2.74764467  0.70727915]\n",
            " [ 3.07943653 -0.70884772]\n",
            " [ 3.38946502  0.90903239]\n",
            " [ 2.73942324 -2.20622003]\n",
            " [ 4.34708353 -1.25086366]\n",
            " [ 3.40013374  0.0879619 ]\n",
            " [ 2.93059751  0.12386127]\n",
            " [ 3.35399654 -0.14949674]\n",
            " [ 3.09480015  0.02311427]\n",
            " [ 3.93911687 -0.55512488]\n",
            " [ 3.69764802 -1.52973277]\n",
            " [ 2.30096221 -0.49838536]\n",
            " [ 0.74893873 -0.84745418]\n",
            " [ 2.78923925  0.67386288]\n",
            " [ 0.60230241  1.37201959]\n",
            " [ 3.0261039  -0.19659592]\n",
            " [ 2.65030513 -1.223152  ]\n",
            " [ 2.55123014  0.81610978]\n",
            " [ 3.82006248 -0.10531179]\n",
            " [ 1.79215013 -0.39597439]\n",
            " [ 2.8168315   0.77250687]\n",
            " [ 3.08315885  0.29133926]\n",
            " [ 0.6468023  -0.79251803]\n",
            " [ 0.96030821 -0.81531351]\n",
            " [ 0.86827367 -0.7301169 ]\n",
            " [ 2.14702122 -0.39855522]\n",
            " [ 0.74896184 -0.41712896]\n",
            " [ 0.67539517 -0.18476017]\n",
            " [ 1.42057251 -0.19351082]\n",
            " [-1.39713666 -1.20810696]\n",
            " [-1.13862654 -1.79700856]\n",
            " [-1.29037893 -1.10736988]\n",
            " [-1.94196813 -0.62158838]\n",
            " [-2.51441668 -1.04447682]\n",
            " [-3.02180124 -2.16810514]\n",
            " [-2.64798125  0.28333324]\n",
            " [-1.89439727  0.03689121]\n",
            " [-1.58845491 -0.10102414]\n",
            " [-3.24101645 -1.90864173]\n",
            " [-2.23713789 -0.9477373 ]\n",
            " [-2.51679114 -2.44364249]\n",
            " [-2.03432054 -1.23357393]\n",
            " [-2.9781983  -0.32779414]\n",
            " [-2.63114376 -0.58131089]\n",
            " [-3.006245   -1.74630677]\n",
            " [-2.5970291   0.52886537]\n",
            " [-2.54190988 -1.7475795 ]\n",
            " [-2.5919377  -1.62295162]\n",
            " [-2.71106996 -1.61991095]\n",
            " [-1.52774046 -0.33051482]\n",
            " [-2.04284365 -0.54123397]\n",
            " [-2.41590976 -0.83868844]\n",
            " [-1.76624131 -0.35522425]\n",
            " [-3.00874642 -1.05569887]\n",
            " [-1.86282212  1.46107483]\n",
            " [-1.95202594 -0.90086059]\n",
            " [-1.88528775 -0.42199715]\n",
            " [-2.9428555  -0.85420867]\n",
            " [-2.85631438 -1.45105838]\n",
            " [-2.92966099 -0.37627704]\n",
            " [-2.91097713 -1.1924455 ]\n",
            " [-3.26458275 -1.7706378 ]\n",
            " [-2.95490308 -0.17336457]\n",
            " [-2.97022953 -1.14901881]\n",
            " [-3.34358076 -0.77990609]\n",
            " [-2.84660419 -1.06730516]\n",
            " [-1.81961764  0.72319583]\n",
            " [-2.91998894 -0.23972307]\n",
            " [-1.76157168 -0.20956791]\n",
            " [-2.07252425 -0.46577755]\n",
            " [-2.49762727 -0.56206088]\n",
            " [-1.47574187 -1.42835544]\n",
            " [-2.70048461 -1.06014448]\n",
            " [-2.46197365 -1.61988225]\n",
            " [-3.22330846 -0.39592332]\n",
            " [-2.998932   -1.48560849]\n",
            " [-3.31693651  0.10318539]\n",
            " [-3.21762276 -0.98391275]\n",
            " [-2.71802113  0.11848183]\n",
            " [-1.95084808  0.73239594]\n",
            " [-3.27799458 -1.13873939]\n",
            " [-2.02885845  0.15917169]\n",
            " [-1.62755832  0.42667199]\n",
            " [-1.73242676 -0.12146101]\n",
            " [-1.13810797  0.26813715]\n",
            " [-1.67373928 -0.08787314]\n",
            " [-1.4932578   1.76796083]\n",
            " [-2.04701722 -0.58424207]\n",
            " [-2.85213137  0.52813521]\n",
            " [-1.88143571 -1.36111794]\n",
            " [-2.0474936   0.10522314]\n",
            " [-2.02790885  0.8815821 ]\n",
            " [-2.76843767 -0.18926865]\n",
            " [-1.4424518  -1.31847752]\n",
            " [-2.38153841  0.12344208]\n",
            " [-1.9963136  -0.51914788]]\n"
          ]
        }
      ]
    },
    {
      "cell_type": "markdown",
      "source": [
        "K-means法を用いたクラスタリング"
      ],
      "metadata": {
        "id": "PAE_TOpBSj_P"
      }
    },
    {
      "cell_type": "code",
      "source": [
        "from sklearn.cluster import KMeans\n",
        "cluster=KMeans(n_clusters= 3, max_iter=300).fit_predict(pcs2)\n",
        "cluster"
      ],
      "metadata": {
        "colab": {
          "base_uri": "https://localhost:8080/"
        },
        "id": "YmoGpqg3J0I9",
        "outputId": "11e3b21e-c6e4-4e97-b42f-a774d9055cd9"
      },
      "execution_count": 18,
      "outputs": [
        {
          "output_type": "stream",
          "name": "stderr",
          "text": [
            "/usr/local/lib/python3.10/dist-packages/sklearn/cluster/_kmeans.py:870: FutureWarning: The default value of `n_init` will change from 10 to 'auto' in 1.4. Set the value of `n_init` explicitly to suppress the warning\n",
            "  warnings.warn(\n"
          ]
        },
        {
          "output_type": "execute_result",
          "data": {
            "text/plain": [
              "array([0, 0, 0, 0, 0, 0, 0, 1, 0, 0, 0, 0, 0, 0, 0, 0, 0, 0, 2, 0, 0, 0,\n",
              "       0, 0, 0, 0, 0, 0, 0, 0, 0, 0, 0, 0, 0, 1, 0, 0, 0, 0, 0, 0, 0, 0,\n",
              "       0, 0, 0, 0, 0, 0, 0, 0, 0, 0, 0, 0, 0, 0, 0, 0, 0, 0, 0, 0, 0, 0,\n",
              "       2, 1, 1, 1, 1, 1, 1, 1, 1, 1, 1, 1, 1, 1, 1, 1, 1, 1, 1, 1, 1, 1,\n",
              "       1, 1, 1, 1, 1, 1, 1, 1, 1, 1, 1, 1, 1, 1, 1, 1, 1, 1, 1, 1, 1, 1,\n",
              "       1, 1, 1, 1, 1, 1, 1, 1, 1, 1, 1, 0, 1, 1, 1, 1, 1, 1, 1, 0, 1, 1,\n",
              "       1, 0, 0, 1, 2, 2, 2, 2, 2, 2, 2, 2, 2, 2, 2, 2, 2, 2, 2, 2, 2, 2,\n",
              "       2, 2, 2, 2, 2, 2, 2, 0, 2, 2, 2, 2, 2, 2, 2, 2, 2, 2, 2, 0, 2, 2,\n",
              "       2, 2, 2, 2, 2, 2, 2, 2, 2, 2, 0, 2, 2, 0, 2, 0, 2, 0, 2, 2, 2, 2,\n",
              "       0, 2, 2, 2, 2], dtype=int32)"
            ]
          },
          "metadata": {},
          "execution_count": 18
        }
      ]
    },
    {
      "cell_type": "markdown",
      "source": [
        "グループ散布図"
      ],
      "metadata": {
        "id": "VFM54_GYSoRL"
      }
    },
    {
      "cell_type": "code",
      "source": [
        "plt.figure()\n",
        "plt.scatter(pcs[:, 0], pcs[:, 1], alpha=0.8, c=cluster)\n",
        "plt.legend(cluster)\n",
        "plt.show()"
      ],
      "metadata": {
        "colab": {
          "base_uri": "https://localhost:8080/",
          "height": 431
        },
        "id": "FnDuUto9J0MG",
        "outputId": "6124c6c8-c152-476f-ae03-e715c3058452"
      },
      "execution_count": 29,
      "outputs": [
        {
          "output_type": "display_data",
          "data": {
            "text/plain": [
              "<Figure size 640x480 with 1 Axes>"
            ],
            "image/png": "[encoded data removed]"
          },
          "metadata": {}
        }
      ]
    },
    {
      "cell_type": "code",
      "source": [
        "clusterT=cluster.T\n",
        "print(clusterT)\n",
        "print(cluster)\n",
        "clusterpd=pd.DataFrame(cluster)\n",
        "pcspd=pd.DataFrame(pcs2)\n",
        "pcs3=pcspd.assign(clusterANS=clusterpd)\n",
        "print(pcs3)"
      ],
      "metadata": {
        "colab": {
          "base_uri": "https://localhost:8080/"
        },
        "id": "H_4IItNwXTPH",
        "outputId": "20dc9382-8dfa-4e93-8deb-ee09959f2853"
      },
      "execution_count": 58,
      "outputs": [
        {
          "output_type": "stream",
          "name": "stdout",
          "text": [
            "[2 2 2 2 2 2 2 0 2 2 2 2 2 2 2 2 2 2 1 2 2 2 2 2 2 2 2 2 2 2 2 2 2 2 2 0 2\n",
            " 2 2 2 2 2 2 2 2 2 2 2 2 2 2 2 2 2 2 2 2 1 2 2 1 2 2 2 2 2 1 0 0 0 0 0 0 0\n",
            " 0 0 0 0 0 0 0 0 0 0 0 0 0 0 0 0 0 0 0 0 0 0 0 0 0 0 0 0 0 0 0 0 0 0 0 0 0\n",
            " 0 0 0 0 0 0 0 0 0 0 2 0 0 0 0 0 0 0 2 0 0 0 2 2 0 1 1 1 1 1 1 1 1 1 1 1 1\n",
            " 1 1 1 1 1 1 1 1 1 1 1 1 1 2 1 1 1 1 1 1 1 1 1 1 1 1 1 1 1 1 1 1 1 1 1 1 1\n",
            " 1 1 1 1 1 1 2 1 2 1 1 1 1 1 1 1 1 1]\n",
            "[2 2 2 2 2 2 2 0 2 2 2 2 2 2 2 2 2 2 1 2 2 2 2 2 2 2 2 2 2 2 2 2 2 2 2 0 2\n",
            " 2 2 2 2 2 2 2 2 2 2 2 2 2 2 2 2 2 2 2 2 1 2 2 1 2 2 2 2 2 1 0 0 0 0 0 0 0\n",
            " 0 0 0 0 0 0 0 0 0 0 0 0 0 0 0 0 0 0 0 0 0 0 0 0 0 0 0 0 0 0 0 0 0 0 0 0 0\n",
            " 0 0 0 0 0 0 0 0 0 0 2 0 0 0 0 0 0 0 2 0 0 0 2 2 0 1 1 1 1 1 1 1 1 1 1 1 1\n",
            " 1 1 1 1 1 1 1 1 1 1 1 1 1 2 1 1 1 1 1 1 1 1 1 1 1 1 1 1 1 1 1 1 1 1 1 1 1\n",
            " 1 1 1 1 1 1 2 1 2 1 1 1 1 1 1 1 1 1]\n",
            "            0         1  clusterANS\n",
            "0    0.272760  0.816302           2\n",
            "1   -0.043853  1.948053           2\n",
            "2   -0.493850  1.921561           2\n",
            "3   -0.627820  1.950266           2\n",
            "4    1.064574  2.095349           2\n",
            "..        ...       ...         ...\n",
            "198 -2.027909  0.881582           1\n",
            "199 -2.768438 -0.189269           1\n",
            "200 -1.442452 -1.318478           1\n",
            "201 -2.381538  0.123442           1\n",
            "202 -1.996314 -0.519148           1\n",
            "\n",
            "[203 rows x 3 columns]\n"
          ]
        }
      ]
    },
    {
      "cell_type": "markdown",
      "source": [
        "シルエット分析"
      ],
      "metadata": {
        "id": "wKjrtxllSq1u"
      }
    },
    {
      "cell_type": "code",
      "source": [
        "from sklearn.metrics import silhouette_samples\n",
        "\n",
        "# クラスタの重複をなくす\n",
        "cluster_labels = np.unique(cluster)\n",
        "\n",
        "# 配列の数：指定したクラスタ数\n",
        "n_clusters = 3\n",
        "\n",
        "#シルエット係数を計算(引数：サンプルデータ, クラスター番号、ユークリッド距離でシルエット係数計算)\n",
        "silhouette_vals = silhouette_samples(pcs2,cluster,metric='euclidean')\n",
        "\n",
        "y_ax_lower, y_ax_upper = 0,0\n",
        "yticks = []\n",
        "for i,c in enumerate(cluster_labels):\n",
        "    c_silhouette_vals = silhouette_vals[cluster==c]\n",
        "    c_silhouette_vals.sort()\n",
        "    # サンプルの個数を足していく\n",
        "    y_ax_upper +=len(c_silhouette_vals)\n",
        "    # 棒グラフを作成\n",
        "    plt.barh(range(y_ax_lower,y_ax_upper),\n",
        "        c_silhouette_vals,\n",
        "        height=1.0,\n",
        "    )\n",
        "    plt.legend()\n",
        "    # クラスタラベルの表示位置\n",
        "    yticks.append((y_ax_lower+y_ax_upper)/2.)\n",
        "    # 底辺の値に棒の幅を足していく\n",
        "    y_ax_lower += len(c_silhouette_vals)\n",
        "\n",
        "#平均の位置に線を引く\n",
        "silhouette_avg=np.mean(silhouette_vals)\n",
        "plt.axvline(silhouette_avg,color=\"red\",linestyle=\"--\")\n",
        "plt.ylabel(\"Cluster\")\n",
        "plt.xlabel(\"Silhouette coefficient\")"
      ],
      "metadata": {
        "colab": {
          "base_uri": "https://localhost:8080/",
          "height": 542
        },
        "id": "ON8QGTJmfyf6",
        "outputId": "0df1d76a-d665-43d6-ca04-69ac8d901b61"
      },
      "execution_count": 20,
      "outputs": [
        {
          "output_type": "stream",
          "name": "stderr",
          "text": [
            "WARNING:matplotlib.legend:No artists with labels found to put in legend.  Note that artists whose label start with an underscore are ignored when legend() is called with no argument.\n",
            "WARNING:matplotlib.legend:No artists with labels found to put in legend.  Note that artists whose label start with an underscore are ignored when legend() is called with no argument.\n",
            "WARNING:matplotlib.legend:No artists with labels found to put in legend.  Note that artists whose label start with an underscore are ignored when legend() is called with no argument.\n"
          ]
        },
        {
          "output_type": "execute_result",
          "data": {
            "text/plain": [
              "Text(0.5, 0, 'Silhouette coefficient')"
            ]
          },
          "metadata": {},
          "execution_count": 20
        },
        {
          "output_type": "display_data",
          "data": {
            "text/plain": [
              "<Figure size 640x480 with 1 Axes>"
            ],
            "image/png": "[encoded data removed]"
          },
          "metadata": {}
        }
      ]
    },
    {
      "cell_type": "markdown",
      "source": [
        "バイプロット図"
      ],
      "metadata": {
        "id": "tUk_HIvGSu4t"
      }
    },
    {
      "cell_type": "code",
      "source": [
        "PC1 = pca.components_[0,:]\n",
        "PC2 = pca.components_[1,:]\n",
        "ldngs = pca.components_\n",
        "scalePC1 = 1.0/(PC1.max() - PC1.min())\n",
        "scalePC2 = 1.0/(PC2.max() - PC2.min())\n",
        "features = [\"Area\",\"Perimeter\",\"Compactness\",\n",
        "    \"Length of kernel\",\"Width of kernel\",\"Asymmetry Coeff\",\n",
        "    \"Length of kernel groove\"]\n",
        "\n",
        "fig, ax = plt.subplots(figsize=(14, 9))\n",
        "\n",
        "for i, feature in enumerate(features):\n",
        "    ax.arrow(0, 0, ldngs[0, i],\n",
        "             ldngs[1, i])\n",
        "    ax.text(ldngs[0, i] * 1.15,\n",
        "            ldngs[1, i] * 1.15,\n",
        "            feature, fontsize=18)\n",
        "\n",
        "ax.set_xlabel('PC1', fontsize=20)\n",
        "ax.set_ylabel('PC2', fontsize=20)\n",
        "ax.set_title('Figure 1', fontsize=20)"
      ],
      "metadata": {
        "colab": {
          "base_uri": "https://localhost:8080/",
          "height": 660
        },
        "id": "5gqmC0mt0KC0",
        "outputId": "3d512632-61f8-457c-df5f-456b6a73be37"
      },
      "execution_count": 21,
      "outputs": [
        {
          "output_type": "execute_result",
          "data": {
            "text/plain": [
              "Text(0.5, 1.0, 'Figure 1')"
            ]
          },
          "metadata": {},
          "execution_count": 21
        },
        {
          "output_type": "display_data",
          "data": {
            "text/plain": [
              "<Figure size 1400x900 with 1 Axes>"
            ],
            "image/png": "[encoded data removed]"
          },
          "metadata": {}
        }
      ]
    },
    {
      "cell_type": "markdown",
      "source": [],
      "metadata": {
        "id": "0LPN45aPgF7n"
      }
    },
    {
      "cell_type": "code",
      "source": [
        "from sklearn.cluster import KMeans\n",
        "\n",
        "km = KMeans(n_clusters=3,            # クラスターの個数         # セントロイドの初期値をランダムに設定  default: 'k-means++'\n",
        "            n_init=10,               # 異なるセントロイドの初期値を用いたk-meansの実行回数 default: '10' 実行したうちもっとSSE値が小さいモデルを最終モデルとして選択\n",
        "            max_iter=300,            # k-meansアルゴリズムの内部の最大イテレーション回数  default: '300'\n",
        "            tol=1e-04,               # 収束と判定するための相対的な許容誤差 default: '1e-04'\n",
        "            random_state=0)          # セントロイドの初期化に用いる乱数発生器の状態\n",
        "\n",
        "cluster = km.fit_predict(pcs2)"
      ],
      "metadata": {
        "id": "E_BNB6pegeM5"
      },
      "execution_count": 76,
      "outputs": []
    },
    {
      "cell_type": "code",
      "source": [
        "plt.scatter(pcs2[cluster==0,0],         # cluster（クラスター番号）が0の時にpcs2の0列目を抽出\n",
        "                    pcs2[cluster==0,1], # cluster（クラスター番号）が0の時にpcs2の1列目を抽出\n",
        "                    s=50,\n",
        "                    # c='lightgreen',\n",
        "                    # marker='s',\n",
        "                    label='cluster 1')\n",
        "plt.scatter(pcs2[cluster==1,0],\n",
        "                    pcs2[cluster==1,1],\n",
        "                    s=50,\n",
        "                    # c='orange',\n",
        "                    # marker='o',\n",
        "                    label='cluster 2')\n",
        "plt.scatter(pcs2[cluster==2,0],\n",
        "                   pcs2[cluster==2,1],\n",
        "                    s=50,\n",
        "                    # c='lightblue',\n",
        "                    # marker='v',\n",
        "                    label='cluster 3')\n",
        "#plt.scatter(km.cluster_centers_[:,0],   # km.cluster_centers_には各クラスターのセントロイドの座標が入っている\n",
        "#                    km.cluster_centers_[:,1],\n",
        "#                    s=250,\n",
        "#                    marker='*',\n",
        "#                    c='red',\n",
        "#                    label='centroids')\n",
        "plt.legend()\n",
        "plt.grid()\n",
        "plt.show()"
      ],
      "metadata": {
        "colab": {
          "base_uri": "https://localhost:8080/",
          "height": 431
        },
        "id": "FspATxkGgG1R",
        "outputId": "f9839f14-8240-4f11-ec18-6598a12070dd"
      },
      "execution_count": 79,
      "outputs": [
        {
          "output_type": "display_data",
          "data": {
            "text/plain": [
              "<Figure size 640x480 with 1 Axes>"
            ],
            "image/png": "[encoded data removed]"
          },
          "metadata": {}
        }
      ]
    },
    {
      "cell_type": "code",
      "source": [
        "from sklearn.metrics import silhouette_samples\n",
        "from matplotlib import cm\n",
        "\n",
        "cluster_labels = np.unique(cluster)       # clusterの要素の中で重複を無くす\n",
        "n_clusters=cluster_labels.shape[0]     # 配列の長さを返す。つまりここでは n_clustersで指定した3となる\n",
        "\n",
        "# シルエット係数を計算\n",
        "silhouette_vals = silhouette_samples(pcs2,cluster,metric='euclidean')  # サンプルデータ, クラスター番号、ユークリッド距離でシルエット係数計算\n",
        "y_ax_lower, y_ax_upper= 0,0\n",
        "yticks = []\n",
        "\n",
        "for i,c in enumerate(cluster_labels):\n",
        "        c_silhouette_vals = silhouette_vals[cluster==c]      # cluster_labelsには 0,1,2が入っている（enumerateなのでiにも0,1,2が入ってる（たまたま））\n",
        "        c_silhouette_vals.sort()\n",
        "        y_ax_upper += len(c_silhouette_vals)              # サンプルの個数をクラスターごとに足し上げてy軸の最大値を決定\n",
        "        color = cm.jet(float(i)/n_clusters)               # 色の値を作る\n",
        "        plt.barh(range(y_ax_lower,y_ax_upper),            # 水平の棒グラフのを描画（底辺の範囲を指定）\n",
        "                         c_silhouette_vals,               # 棒の幅（1サンプルを表す）\n",
        "                         height=1.0,                      # 棒の高さ\n",
        "                         edgecolor='none',                # 棒の端の色\n",
        "                         color=color)                     # 棒の色\n",
        "        yticks.append((y_ax_lower+y_ax_upper)/2)          # クラスタラベルの表示位置を追加\n",
        "        y_ax_lower += len(c_silhouette_vals)              # 底辺の値に棒の幅を追加\n",
        "\n",
        "silhouette_avg = np.mean(silhouette_vals)                 # シルエット係数の平均値\n",
        "plt.axvline(silhouette_avg,color=\"red\",linestyle=\"--\")    # 係数の平均値に破線を引く\n",
        "plt.yticks(yticks,cluster_labels + 1)                     # クラスタレベルを表示\n",
        "plt.ylabel('Cluster')\n",
        "plt.xlabel('silhouette coefficient')\n",
        "plt.show()"
      ],
      "metadata": {
        "colab": {
          "base_uri": "https://localhost:8080/",
          "height": 449
        },
        "id": "E7Or6kgicMmH",
        "outputId": "b2612bd2-7c4a-4d0c-d9a9-fb0ace9286c4"
      },
      "execution_count": 78,
      "outputs": [
        {
          "output_type": "display_data",
          "data": {
            "text/plain": [
              "<Figure size 640x480 with 1 Axes>"
            ],
            "image/png": "[encoded data removed]"
          },
          "metadata": {}
        }
      ]
    },
    {
      "cell_type": "code",
      "source": [
        "from sklearn.metrics import silhouette_samples\n",
        "\n",
        "# クラスタの重複をなくす\n",
        "cluster_labels = np.unique(cluster)\n",
        "\n",
        "# 配列の数：指定したクラスタ数\n",
        "n_clusters = 3\n",
        "\n",
        "#シルエット係数を計算(引数：サンプルデータ, クラスター番号、ユークリッド距離でシルエット係数計算)\n",
        "silhouette_vals = silhouette_samples(pcs2,cluster,metric='euclidean')\n",
        "\n",
        "y_ax_lower, y_ax_upper = 0,0\n",
        "yticks = []\n",
        "for i,c in enumerate(cluster_labels):\n",
        "    c_silhouette_vals = silhouette_vals[cluster==c]\n",
        "    c_silhouette_vals.sort()\n",
        "    # サンプルの個数を足していく\n",
        "    y_ax_upper +=len(c_silhouette_vals)\n",
        "    # 棒グラフを作成\n",
        "    plt.barh(range(y_ax_lower,y_ax_upper),\n",
        "        c_silhouette_vals,\n",
        "        height=1.0,\n",
        "    )\n",
        "    plt.legend()\n",
        "    # クラスタラベルの表示位置\n",
        "    yticks.append((y_ax_lower+y_ax_upper)/2.)\n",
        "    # 底辺の値に棒の幅を足していく\n",
        "    y_ax_lower += len(c_silhouette_vals)\n",
        "\n",
        "#平均の位置に線を引く\n",
        "silhouette_avg=np.mean(silhouette_vals)\n",
        "plt.axvline(silhouette_avg,color=\"red\",linestyle=\"--\")\n",
        "plt.ylabel(\"Cluster\")\n",
        "plt.xlabel(\"Silhouette coefficient\")"
      ],
      "metadata": {
        "id": "FEbuZWNcctrn"
      },
      "execution_count": null,
      "outputs": []
    },
    {
      "cell_type": "markdown",
      "source": [
        "他に標準化"
      ],
      "metadata": {
        "id": "KNJHO2doffnZ"
      }
    },
    {
      "cell_type": "code",
      "source": [
        "dfs2= pd.DataFrame(dfs, columns = df.columns)\n",
        "display(dfs2)\n",
        "print(dfs2)"
      ],
      "metadata": {
        "colab": {
          "base_uri": "https://localhost:8080/",
          "height": 677
        },
        "id": "bj2AOgsvfRrg",
        "outputId": "336d23f5-5937-416a-b158-793418c210aa"
      },
      "execution_count": 22,
      "outputs": [
        {
          "output_type": "display_data",
          "data": {
            "text/plain": [
              "            0         1         2         3         4         5         6\n",
              "0    0.121366  0.192312  0.003005  0.277325  0.126348 -0.992458 -0.406395\n",
              "1   -0.009099 -0.014326  0.436892 -0.195018  0.181979 -1.794061 -0.943498\n",
              "2   -0.211664 -0.381684  1.463613 -0.789402  0.192575 -0.673949 -1.210015\n",
              "3   -0.366162 -0.496483  1.055502 -0.714822  0.303838 -0.967137 -1.250705\n",
              "4    0.423496  0.307111  1.394879  0.040023  0.788624 -1.569505 -0.497947\n",
              "..        ...       ...       ...       ...       ...       ...       ...\n",
              "198 -0.932656 -1.062825  0.316606 -1.137444 -0.750505 -0.052924 -1.118464\n",
              "199 -1.262252 -1.307730 -0.851880 -1.130664 -1.243239  0.409514 -0.847878\n",
              "200 -0.585893 -0.710775  0.746197 -0.913703 -0.085580  3.068197 -0.740050\n",
              "201 -1.052821 -1.055172 -0.808921 -1.051564 -1.134625 -0.074913 -0.764464\n",
              "202 -0.894889 -0.955680 -0.108689 -0.897883 -0.769049  1.283747 -0.725809\n",
              "\n",
              "[203 rows x 7 columns]"
            ],
            "text/html": [
              "\n",
              "  <div id=\"df-a13a2fae-1bd3-47b1-9ef4-7039d90b79f9\" class=\"colab-df-container\">\n",
              "    <div>\n",
              "<style scoped>\n",
              "    .dataframe tbody tr th:only-of-type {\n",
              "        vertical-align: middle;\n",
              "    }\n",
              "\n",
              "    .dataframe tbody tr th {\n",
              "        vertical-align: top;\n",
              "    }\n",
              "\n",
              "    .dataframe thead th {\n",
              "        text-align: right;\n",
              "    }\n",
              "</style>\n",
              "<table border=\"1\" class=\"dataframe\">\n",
              "  <thead>\n",
              "    <tr style=\"text-align: right;\">\n",
              "      <th></th>\n",
              "      <th>0</th>\n",
              "      <th>1</th>\n",
              "      <th>2</th>\n",
              "      <th>3</th>\n",
              "      <th>4</th>\n",
              "      <th>5</th>\n",
              "      <th>6</th>\n",
              "    </tr>\n",
              "  </thead>\n",
              "  <tbody>\n",
              "    <tr>\n",
              "      <th>0</th>\n",
              "      <td>0.121366</td>\n",
              "      <td>0.192312</td>\n",
              "      <td>0.003005</td>\n",
              "      <td>0.277325</td>\n",
              "      <td>0.126348</td>\n",
              "      <td>-0.992458</td>\n",
              "      <td>-0.406395</td>\n",
              "    </tr>\n",
              "    <tr>\n",
              "      <th>1</th>\n",
              "      <td>-0.009099</td>\n",
              "      <td>-0.014326</td>\n",
              "      <td>0.436892</td>\n",
              "      <td>-0.195018</td>\n",
              "      <td>0.181979</td>\n",
              "      <td>-1.794061</td>\n",
              "      <td>-0.943498</td>\n",
              "    </tr>\n",
              "    <tr>\n",
              "      <th>2</th>\n",
              "      <td>-0.211664</td>\n",
              "      <td>-0.381684</td>\n",
              "      <td>1.463613</td>\n",
              "      <td>-0.789402</td>\n",
              "      <td>0.192575</td>\n",
              "      <td>-0.673949</td>\n",
              "      <td>-1.210015</td>\n",
              "    </tr>\n",
              "    <tr>\n",
              "      <th>3</th>\n",
              "      <td>-0.366162</td>\n",
              "      <td>-0.496483</td>\n",
              "      <td>1.055502</td>\n",
              "      <td>-0.714822</td>\n",
              "      <td>0.303838</td>\n",
              "      <td>-0.967137</td>\n",
              "      <td>-1.250705</td>\n",
              "    </tr>\n",
              "    <tr>\n",
              "      <th>4</th>\n",
              "      <td>0.423496</td>\n",
              "      <td>0.307111</td>\n",
              "      <td>1.394879</td>\n",
              "      <td>0.040023</td>\n",
              "      <td>0.788624</td>\n",
              "      <td>-1.569505</td>\n",
              "      <td>-0.497947</td>\n",
              "    </tr>\n",
              "    <tr>\n",
              "      <th>...</th>\n",
              "      <td>...</td>\n",
              "      <td>...</td>\n",
              "      <td>...</td>\n",
              "      <td>...</td>\n",
              "      <td>...</td>\n",
              "      <td>...</td>\n",
              "      <td>...</td>\n",
              "    </tr>\n",
              "    <tr>\n",
              "      <th>198</th>\n",
              "      <td>-0.932656</td>\n",
              "      <td>-1.062825</td>\n",
              "      <td>0.316606</td>\n",
              "      <td>-1.137444</td>\n",
              "      <td>-0.750505</td>\n",
              "      <td>-0.052924</td>\n",
              "      <td>-1.118464</td>\n",
              "    </tr>\n",
              "    <tr>\n",
              "      <th>199</th>\n",
              "      <td>-1.262252</td>\n",
              "      <td>-1.307730</td>\n",
              "      <td>-0.851880</td>\n",
              "      <td>-1.130664</td>\n",
              "      <td>-1.243239</td>\n",
              "      <td>0.409514</td>\n",
              "      <td>-0.847878</td>\n",
              "    </tr>\n",
              "    <tr>\n",
              "      <th>200</th>\n",
              "      <td>-0.585893</td>\n",
              "      <td>-0.710775</td>\n",
              "      <td>0.746197</td>\n",
              "      <td>-0.913703</td>\n",
              "      <td>-0.085580</td>\n",
              "      <td>3.068197</td>\n",
              "      <td>-0.740050</td>\n",
              "    </tr>\n",
              "    <tr>\n",
              "      <th>201</th>\n",
              "      <td>-1.052821</td>\n",
              "      <td>-1.055172</td>\n",
              "      <td>-0.808921</td>\n",
              "      <td>-1.051564</td>\n",
              "      <td>-1.134625</td>\n",
              "      <td>-0.074913</td>\n",
              "      <td>-0.764464</td>\n",
              "    </tr>\n",
              "    <tr>\n",
              "      <th>202</th>\n",
              "      <td>-0.894889</td>\n",
              "      <td>-0.955680</td>\n",
              "      <td>-0.108689</td>\n",
              "      <td>-0.897883</td>\n",
              "      <td>-0.769049</td>\n",
              "      <td>1.283747</td>\n",
              "      <td>-0.725809</td>\n",
              "    </tr>\n",
              "  </tbody>\n",
              "</table>\n",
              "<p>203 rows × 7 columns</p>\n",
              "</div>\n",
              "    <div class=\"colab-df-buttons\">\n",
              "\n",
              "  <div class=\"colab-df-container\">\n",
              "    <button class=\"colab-df-convert\" onclick=\"convertToInteractive('df-a13a2fae-1bd3-47b1-9ef4-7039d90b79f9')\"\n",
              "            title=\"Convert this dataframe to an interactive table.\"\n",
              "            style=\"display:none;\">\n",
              "\n",
              "  <svg xmlns=\"http://www.w3.org/2000/svg\" height=\"24px\" viewBox=\"0 -960 960 960\">\n",
              "    <path d=\"M120-120v-720h720v720H120Zm60-500h600v-160H180v160Zm220 220h160v-160H400v160Zm0 220h160v-160H400v160ZM180-400h160v-160H180v160Zm440 0h160v-160H620v160ZM180-180h160v-160H180v160Zm440 0h160v-160H620v160Z\"/>\n",
              "  </svg>\n",
              "    </button>\n",
              "\n",
              "  <style>\n",
              "    .colab-df-container {\n",
              "      display:flex;\n",
              "      gap: 12px;\n",
              "    }\n",
              "\n",
              "    .colab-df-convert {\n",
              "      background-color: #E8F0FE;\n",
              "      border: none;\n",
              "      border-radius: 50%;\n",
              "      cursor: pointer;\n",
              "      display: none;\n",
              "      fill: #1967D2;\n",
              "      height: 32px;\n",
              "      padding: 0 0 0 0;\n",
              "      width: 32px;\n",
              "    }\n",
              "\n",
              "    .colab-df-convert:hover {\n",
              "      background-color: #E2EBFA;\n",
              "      box-shadow: 0px 1px 2px rgba(60, 64, 67, 0.3), 0px 1px 3px 1px rgba(60, 64, 67, 0.15);\n",
              "      fill: #174EA6;\n",
              "    }\n",
              "\n",
              "    .colab-df-buttons div {\n",
              "      margin-bottom: 4px;\n",
              "    }\n",
              "\n",
              "    [theme=dark] .colab-df-convert {\n",
              "      background-color: #3B4455;\n",
              "      fill: #D2E3FC;\n",
              "    }\n",
              "\n",
              "    [theme=dark] .colab-df-convert:hover {\n",
              "      background-color: #434B5C;\n",
              "      box-shadow: 0px 1px 3px 1px rgba(0, 0, 0, 0.15);\n",
              "      filter: drop-shadow(0px 1px 2px rgba(0, 0, 0, 0.3));\n",
              "      fill: #FFFFFF;\n",
              "    }\n",
              "  </style>\n",
              "\n",
              "    <script>\n",
              "      const buttonEl =\n",
              "        document.querySelector('#df-a13a2fae-1bd3-47b1-9ef4-7039d90b79f9 button.colab-df-convert');\n",
              "      buttonEl.style.display =\n",
              "        google.colab.kernel.accessAllowed ? 'block' : 'none';\n",
              "\n",
              "      async function convertToInteractive(key) {\n",
              "        const element = document.querySelector('#df-a13a2fae-1bd3-47b1-9ef4-7039d90b79f9');\n",
              "        const dataTable =\n",
              "          await google.colab.kernel.invokeFunction('convertToInteractive',\n",
              "                                                    [key], {});\n",
              "        if (!dataTable) return;\n",
              "\n",
              "        const docLinkHtml = 'Like what you see? Visit the ' +\n",
              "          '<a target=\"_blank\" href=https://colab.research.google.com/notebooks/data_table.ipynb>data table notebook</a>'\n",
              "          + ' to learn more about interactive tables.';\n",
              "        element.innerHTML = '';\n",
              "        dataTable['output_type'] = 'display_data';\n",
              "        await google.colab.output.renderOutput(dataTable, element);\n",
              "        const docLink = document.createElement('div');\n",
              "        docLink.innerHTML = docLinkHtml;\n",
              "        element.appendChild(docLink);\n",
              "      }\n",
              "    </script>\n",
              "  </div>\n",
              "\n",
              "\n",
              "<div id=\"df-9711aaa8-0640-40be-919e-167dcc9b948e\">\n",
              "  <button class=\"colab-df-quickchart\" onclick=\"quickchart('df-9711aaa8-0640-40be-919e-167dcc9b948e')\"\n",
              "            title=\"Suggest charts\"\n",
              "            style=\"display:none;\">\n",
              "\n",
              "<svg xmlns=\"http://www.w3.org/2000/svg\" height=\"24px\"viewBox=\"0 0 24 24\"\n",
              "     width=\"24px\">\n",
              "    <g>\n",
              "        <path d=\"M19 3H5c-1.1 0-2 .9-2 2v14c0 1.1.9 2 2 2h14c1.1 0 2-.9 2-2V5c0-1.1-.9-2-2-2zM9 17H7v-7h2v7zm4 0h-2V7h2v10zm4 0h-2v-4h2v4z\"/>\n",
              "    </g>\n",
              "</svg>\n",
              "  </button>\n",
              "\n",
              "<style>\n",
              "  .colab-df-quickchart {\n",
              "      --bg-color: #E8F0FE;\n",
              "      --fill-color: #1967D2;\n",
              "      --hover-bg-color: #E2EBFA;\n",
              "      --hover-fill-color: #174EA6;\n",
              "      --disabled-fill-color: #AAA;\n",
              "      --disabled-bg-color: #DDD;\n",
              "  }\n",
              "\n",
              "  [theme=dark] .colab-df-quickchart {\n",
              "      --bg-color: #3B4455;\n",
              "      --fill-color: #D2E3FC;\n",
              "      --hover-bg-color: #434B5C;\n",
              "      --hover-fill-color: #FFFFFF;\n",
              "      --disabled-bg-color: #3B4455;\n",
              "      --disabled-fill-color: #666;\n",
              "  }\n",
              "\n",
              "  .colab-df-quickchart {\n",
              "    background-color: var(--bg-color);\n",
              "    border: none;\n",
              "    border-radius: 50%;\n",
              "    cursor: pointer;\n",
              "    display: none;\n",
              "    fill: var(--fill-color);\n",
              "    height: 32px;\n",
              "    padding: 0;\n",
              "    width: 32px;\n",
              "  }\n",
              "\n",
              "  .colab-df-quickchart:hover {\n",
              "    background-color: var(--hover-bg-color);\n",
              "    box-shadow: 0 1px 2px rgba(60, 64, 67, 0.3), 0 1px 3px 1px rgba(60, 64, 67, 0.15);\n",
              "    fill: var(--button-hover-fill-color);\n",
              "  }\n",
              "\n",
              "  .colab-df-quickchart-complete:disabled,\n",
              "  .colab-df-quickchart-complete:disabled:hover {\n",
              "    background-color: var(--disabled-bg-color);\n",
              "    fill: var(--disabled-fill-color);\n",
              "    box-shadow: none;\n",
              "  }\n",
              "\n",
              "  .colab-df-spinner {\n",
              "    border: 2px solid var(--fill-color);\n",
              "    border-color: transparent;\n",
              "    border-bottom-color: var(--fill-color);\n",
              "    animation:\n",
              "      spin 1s steps(1) infinite;\n",
              "  }\n",
              "\n",
              "  @keyframes spin {\n",
              "    0% {\n",
              "      border-color: transparent;\n",
              "      border-bottom-color: var(--fill-color);\n",
              "      border-left-color: var(--fill-color);\n",
              "    }\n",
              "    20% {\n",
              "      border-color: transparent;\n",
              "      border-left-color: var(--fill-color);\n",
              "      border-top-color: var(--fill-color);\n",
              "    }\n",
              "    30% {\n",
              "      border-color: transparent;\n",
              "      border-left-color: var(--fill-color);\n",
              "      border-top-color: var(--fill-color);\n",
              "      border-right-color: var(--fill-color);\n",
              "    }\n",
              "    40% {\n",
              "      border-color: transparent;\n",
              "      border-right-color: var(--fill-color);\n",
              "      border-top-color: var(--fill-color);\n",
              "    }\n",
              "    60% {\n",
              "      border-color: transparent;\n",
              "      border-right-color: var(--fill-color);\n",
              "    }\n",
              "    80% {\n",
              "      border-color: transparent;\n",
              "      border-right-color: var(--fill-color);\n",
              "      border-bottom-color: var(--fill-color);\n",
              "    }\n",
              "    90% {\n",
              "      border-color: transparent;\n",
              "      border-bottom-color: var(--fill-color);\n",
              "    }\n",
              "  }\n",
              "</style>\n",
              "\n",
              "  <script>\n",
              "    async function quickchart(key) {\n",
              "      const quickchartButtonEl =\n",
              "        document.querySelector('#' + key + ' button');\n",
              "      quickchartButtonEl.disabled = true;  // To prevent multiple clicks.\n",
              "      quickchartButtonEl.classList.add('colab-df-spinner');\n",
              "      try {\n",
              "        const charts = await google.colab.kernel.invokeFunction(\n",
              "            'suggestCharts', [key], {});\n",
              "      } catch (error) {\n",
              "        console.error('Error during call to suggestCharts:', error);\n",
              "      }\n",
              "      quickchartButtonEl.classList.remove('colab-df-spinner');\n",
              "      quickchartButtonEl.classList.add('colab-df-quickchart-complete');\n",
              "    }\n",
              "    (() => {\n",
              "      let quickchartButtonEl =\n",
              "        document.querySelector('#df-9711aaa8-0640-40be-919e-167dcc9b948e button');\n",
              "      quickchartButtonEl.style.display =\n",
              "        google.colab.kernel.accessAllowed ? 'block' : 'none';\n",
              "    })();\n",
              "  </script>\n",
              "</div>\n",
              "    </div>\n",
              "  </div>\n"
            ],
            "application/vnd.google.colaboratory.intrinsic+json": {
              "type": "dataframe",
              "variable_name": "dfs2",
              "summary": "{\n  \"name\": \"dfs2\",\n  \"rows\": 203,\n  \"fields\": [\n    {\n      \"column\": 0,\n      \"properties\": {\n        \"dtype\": \"number\",\n        \"std\": 1.002472191658953,\n        \"min\": -1.4819827894587523,\n        \"max\": 2.153877000891882,\n        \"num_unique_values\": 188,\n        \"samples\": [\n          -0.8674229193239422,\n          -1.251952000078684,\n          -0.2562963445530142\n        ],\n        \"semantic_type\": \"\",\n        \"description\": \"\"\n      }\n    },\n    {\n      \"column\": 1,\n      \"properties\": {\n        \"dtype\": \"number\",\n        \"std\": 1.0024721916589532,\n        \"min\": -1.6674343517046393,\n        \"max\": 2.0367521347673714,\n        \"num_unique_values\": 166,\n        \"samples\": [\n          1.7765406873705776,\n          -1.1240516233172169,\n          1.302037459764658\n        ],\n        \"semantic_type\": \"\",\n        \"description\": \"\"\n      }\n    },\n    {\n      \"column\": 2,\n      \"properties\": {\n        \"dtype\": \"number\",\n        \"std\": 1.002472191658953,\n        \"min\": -2.6991201780184206,\n        \"max\": 2.0349687987645972,\n        \"num_unique_values\": 180,\n        \"samples\": [\n          0.054555896498741194,\n          0.6516869017372537,\n          -2.6217938607932934\n        ],\n        \"semantic_type\": \"\",\n        \"description\": \"\"\n      }\n    },\n    {\n      \"column\": 3,\n      \"properties\": {\n        \"dtype\": \"number\",\n        \"std\": 1.002472191658953,\n        \"min\": -1.6753277716897723,\n        \"max\": 2.3384584012197536,\n        \"num_unique_values\": 182,\n        \"samples\": [\n          -0.2718586200136383,\n          -0.15885788316370633,\n          -0.8187821863673012\n        ],\n        \"semantic_type\": \"\",\n        \"description\": \"\"\n      }\n    },\n    {\n      \"column\": 4,\n      \"properties\": {\n        \"dtype\": \"number\",\n        \"std\": 1.002472191658953,\n        \"min\": -1.6803406432101538,\n        \"max\": 2.0363514310655804,\n        \"num_unique_values\": 180,\n        \"samples\": [\n          0.6429230411375431,\n          0.0707167061100598,\n          -1.1743618932552957\n        ],\n        \"semantic_type\": \"\",\n        \"description\": \"\"\n      }\n    },\n    {\n      \"column\": 5,\n      \"properties\": {\n        \"dtype\": \"number\",\n        \"std\": 1.002472191658953,\n        \"min\": -1.9625773051745727,\n        \"max\": 3.1621500813580865,\n        \"num_unique_values\": 201,\n        \"samples\": [\n          -1.0144470995682948,\n          1.0152138789099692,\n          -0.19885122377794845\n        ],\n        \"semantic_type\": \"\",\n        \"description\": \"\"\n      }\n    },\n    {\n      \"column\": 6,\n      \"properties\": {\n        \"dtype\": \"number\",\n        \"std\": 1.0024721916589532,\n        \"min\": -1.832566637221368,\n        \"max\": 2.2994650853093517,\n        \"num_unique_values\": 145,\n        \"samples\": [\n          1.5812931512604382,\n          -0.9394293028092625,\n          -0.12156778018132046\n        ],\n        \"semantic_type\": \"\",\n        \"description\": \"\"\n      }\n    }\n  ]\n}"
            }
          },
          "metadata": {}
        },
        {
          "output_type": "stream",
          "name": "stdout",
          "text": [
            "            0         1         2         3         4         5         6\n",
            "0    0.121366  0.192312  0.003005  0.277325  0.126348 -0.992458 -0.406395\n",
            "1   -0.009099 -0.014326  0.436892 -0.195018  0.181979 -1.794061 -0.943498\n",
            "2   -0.211664 -0.381684  1.463613 -0.789402  0.192575 -0.673949 -1.210015\n",
            "3   -0.366162 -0.496483  1.055502 -0.714822  0.303838 -0.967137 -1.250705\n",
            "4    0.423496  0.307111  1.394879  0.040023  0.788624 -1.569505 -0.497947\n",
            "..        ...       ...       ...       ...       ...       ...       ...\n",
            "198 -0.932656 -1.062825  0.316606 -1.137444 -0.750505 -0.052924 -1.118464\n",
            "199 -1.262252 -1.307730 -0.851880 -1.130664 -1.243239  0.409514 -0.847878\n",
            "200 -0.585893 -0.710775  0.746197 -0.913703 -0.085580  3.068197 -0.740050\n",
            "201 -1.052821 -1.055172 -0.808921 -1.051564 -1.134625 -0.074913 -0.764464\n",
            "202 -0.894889 -0.955680 -0.108689 -0.897883 -0.769049  1.283747 -0.725809\n",
            "\n",
            "[203 rows x 7 columns]\n"
          ]
        }
      ]
    },
    {
      "cell_type": "code",
      "source": [
        "corrs = np.corrcoef(dfs2,rowvar=False)\n",
        "print(corrs)\n",
        "sns.heatmap(corrs, cmap=sns.color_palette('Reds', 10))"
      ],
      "metadata": {
        "colab": {
          "base_uri": "https://localhost:8080/",
          "height": 707
        },
        "id": "S-gsCKjEfeqp",
        "outputId": "352cb9da-5bc6-4e13-b726-f08765c26694"
      },
      "execution_count": 23,
      "outputs": [
        {
          "output_type": "stream",
          "name": "stdout",
          "text": [
            "[[ 1.          0.9944388   0.61231458  0.95180163  0.97127861 -0.23035648\n",
            "   0.86489414]\n",
            " [ 0.9944388   1.          0.53445932  0.97341603  0.94588472 -0.22121046\n",
            "   0.89093928]\n",
            " [ 0.61231458  0.53445932  1.          0.37884283  0.76335061 -0.31167077\n",
            "   0.23618371]\n",
            " [ 0.95180163  0.97341603  0.37884283  1.          0.86435795 -0.18336856\n",
            "   0.93252081]\n",
            " [ 0.97127861  0.94588472  0.76335061  0.86435795  1.         -0.2542434\n",
            "   0.75228668]\n",
            " [-0.23035648 -0.22121046 -0.31167077 -0.18336856 -0.2542434   1.\n",
            "  -0.02092721]\n",
            " [ 0.86489414  0.89093928  0.23618371  0.93252081  0.75228668 -0.02092721\n",
            "   1.        ]]\n"
          ]
        },
        {
          "output_type": "execute_result",
          "data": {
            "text/plain": [
              "<Axes: >"
            ]
          },
          "metadata": {},
          "execution_count": 23
        },
        {
          "output_type": "display_data",
          "data": {
            "text/plain": [
              "<Figure size 640x480 with 2 Axes>"
            ],
            "image/png": "[encoded data removed]"
          },
          "metadata": {}
        }
      ]
    },
    {
      "cell_type": "code",
      "source": [
        "pca.fit(dfs2)"
      ],
      "metadata": {
        "colab": {
          "base_uri": "https://localhost:8080/",
          "height": 74
        },
        "id": "-Fui9bKPe8Pf",
        "outputId": "0b9b7805-2c13-4279-ca21-bf68619132c0"
      },
      "execution_count": 24,
      "outputs": [
        {
          "output_type": "execute_result",
          "data": {
            "text/plain": [
              "PCA()"
            ],
            "text/html": [
              "<style>#sk-container-id-2 {color: black;background-color: white;}#sk-container-id-2 pre{padding: 0;}#sk-container-id-2 div.sk-toggleable {background-color: white;}#sk-container-id-2 label.sk-toggleable__label {cursor: pointer;display: block;width: 100%;margin-bottom: 0;padding: 0.3em;box-sizing: border-box;text-align: center;}#sk-container-id-2 label.sk-toggleable__label-arrow:before {content: \"▸\";float: left;margin-right: 0.25em;color: #696969;}#sk-container-id-2 label.sk-toggleable__label-arrow:hover:before {color: black;}#sk-container-id-2 div.sk-estimator:hover label.sk-toggleable__label-arrow:before {color: black;}#sk-container-id-2 div.sk-toggleable__content {max-height: 0;max-width: 0;overflow: hidden;text-align: left;background-color: #f0f8ff;}#sk-container-id-2 div.sk-toggleable__content pre {margin: 0.2em;color: black;border-radius: 0.25em;background-color: #f0f8ff;}#sk-container-id-2 input.sk-toggleable__control:checked~div.sk-toggleable__content {max-height: 200px;max-width: 100%;overflow: auto;}#sk-container-id-2 input.sk-toggleable__control:checked~label.sk-toggleable__label-arrow:before {content: \"▾\";}#sk-container-id-2 div.sk-estimator input.sk-toggleable__control:checked~label.sk-toggleable__label {background-color: #d4ebff;}#sk-container-id-2 div.sk-label input.sk-toggleable__control:checked~label.sk-toggleable__label {background-color: #d4ebff;}#sk-container-id-2 input.sk-hidden--visually {border: 0;clip: rect(1px 1px 1px 1px);clip: rect(1px, 1px, 1px, 1px);height: 1px;margin: -1px;overflow: hidden;padding: 0;position: absolute;width: 1px;}#sk-container-id-2 div.sk-estimator {font-family: monospace;background-color: #f0f8ff;border: 1px dotted black;border-radius: 0.25em;box-sizing: border-box;margin-bottom: 0.5em;}#sk-container-id-2 div.sk-estimator:hover {background-color: #d4ebff;}#sk-container-id-2 div.sk-parallel-item::after {content: \"\";width: 100%;border-bottom: 1px solid gray;flex-grow: 1;}#sk-container-id-2 div.sk-label:hover label.sk-toggleable__label {background-color: #d4ebff;}#sk-container-id-2 div.sk-serial::before {content: \"\";position: absolute;border-left: 1px solid gray;box-sizing: border-box;top: 0;bottom: 0;left: 50%;z-index: 0;}#sk-container-id-2 div.sk-serial {display: flex;flex-direction: column;align-items: center;background-color: white;padding-right: 0.2em;padding-left: 0.2em;position: relative;}#sk-container-id-2 div.sk-item {position: relative;z-index: 1;}#sk-container-id-2 div.sk-parallel {display: flex;align-items: stretch;justify-content: center;background-color: white;position: relative;}#sk-container-id-2 div.sk-item::before, #sk-container-id-2 div.sk-parallel-item::before {content: \"\";position: absolute;border-left: 1px solid gray;box-sizing: border-box;top: 0;bottom: 0;left: 50%;z-index: -1;}#sk-container-id-2 div.sk-parallel-item {display: flex;flex-direction: column;z-index: 1;position: relative;background-color: white;}#sk-container-id-2 div.sk-parallel-item:first-child::after {align-self: flex-end;width: 50%;}#sk-container-id-2 div.sk-parallel-item:last-child::after {align-self: flex-start;width: 50%;}#sk-container-id-2 div.sk-parallel-item:only-child::after {width: 0;}#sk-container-id-2 div.sk-dashed-wrapped {border: 1px dashed gray;margin: 0 0.4em 0.5em 0.4em;box-sizing: border-box;padding-bottom: 0.4em;background-color: white;}#sk-container-id-2 div.sk-label label {font-family: monospace;font-weight: bold;display: inline-block;line-height: 1.2em;}#sk-container-id-2 div.sk-label-container {text-align: center;}#sk-container-id-2 div.sk-container {/* jupyter's `normalize.less` sets `[hidden] { display: none; }` but bootstrap.min.css set `[hidden] { display: none !important; }` so we also need the `!important` here to be able to override the default hidden behavior on the sphinx rendered scikit-learn.org. See: https://github.com/scikit-learn/scikit-learn/issues/21755 */display: inline-block !important;position: relative;}#sk-container-id-2 div.sk-text-repr-fallback {display: none;}</style><div id=\"sk-container-id-2\" class=\"sk-top-container\"><div class=\"sk-text-repr-fallback\"><pre>PCA()</pre><b>In a Jupyter environment, please rerun this cell to show the HTML representation or trust the notebook. <br />On GitHub, the HTML representation is unable to render, please try loading this page with nbviewer.org.</b></div><div class=\"sk-container\" hidden><div class=\"sk-item\"><div class=\"sk-estimator sk-toggleable\"><input class=\"sk-toggleable__control sk-hidden--visually\" id=\"sk-estimator-id-2\" type=\"checkbox\" checked><label for=\"sk-estimator-id-2\" class=\"sk-toggleable__label sk-toggleable__label-arrow\">PCA</label><div class=\"sk-toggleable__content\"><pre>PCA()</pre></div></div></div></div></div>"
            ]
          },
          "metadata": {},
          "execution_count": 24
        }
      ]
    },
    {
      "cell_type": "code",
      "source": [
        "print('第1主成分', pca.components_[0])\n",
        "print('第2主成分', pca.components_[1])\n",
        "pca\n",
        "pcs=pca.transform(dfs2)\n",
        "print(pcs)"
      ],
      "metadata": {
        "colab": {
          "base_uri": "https://localhost:8080/"
        },
        "id": "gyAPs8LqffHv",
        "outputId": "5297d88b-1e42-492b-9653-d5b58263174c"
      },
      "execution_count": 25,
      "outputs": [
        {
          "output_type": "stream",
          "name": "stdout",
          "text": [
            "第1主成分 [ 0.44387968  0.44099738  0.27864832  0.42386439  0.43248624 -0.11929817\n",
            "  0.38718191]\n",
            "第2主成分 [-0.02827866 -0.08341264  0.51826746 -0.19909129  0.11204425 -0.72757429\n",
            " -0.37694281]\n",
            "[[ 2.72759925e-01  8.16302292e-01 -6.11961692e-01 ... -1.11143283e-01\n",
            "   2.41502779e-02 -1.35665992e-02]\n",
            " [-4.38527689e-02  1.94805251e+00 -6.28872797e-01 ...  4.23118551e-02\n",
            "   1.67227655e-02 -4.69506226e-03]\n",
            " [-4.93849577e-01  1.92156061e+00  9.81335328e-01 ... -5.13111069e-03\n",
            "  -5.38373182e-02 -4.50639304e-03]\n",
            " ...\n",
            " [-1.44245180e+00 -1.31847752e+00  2.89445226e+00 ... -2.21277208e-02\n",
            "   8.72792104e-02 -3.25161623e-02]\n",
            " [-2.38153841e+00  1.23442080e-01 -3.80485884e-01 ...  6.35837208e-02\n",
            "  -5.22451336e-02  1.47396288e-02]\n",
            " [-1.99631360e+00 -5.19147880e-01  1.00980564e+00 ... -1.09498969e-01\n",
            "   1.28628125e-02  6.69917515e-05]]\n"
          ]
        }
      ]
    },
    {
      "cell_type": "code",
      "source": [
        "print(pcs[:,:2])\n",
        "pcs2=pcs[:,:2]\n",
        "print(pcs2)"
      ],
      "metadata": {
        "colab": {
          "base_uri": "https://localhost:8080/"
        },
        "id": "4HokddsKf5Mt",
        "outputId": "7d5e4dcc-8db9-42f9-e105-8011384efd65"
      },
      "execution_count": 26,
      "outputs": [
        {
          "output_type": "stream",
          "name": "stdout",
          "text": [
            "[[ 0.27275992  0.81630229]\n",
            " [-0.04385277  1.94805251]\n",
            " [-0.49384958  1.92156061]\n",
            " [-0.62781988  1.95026634]\n",
            " [ 1.06457375  2.09534909]\n",
            " [-0.37374848  1.65688234]\n",
            " [-0.18730219  0.45559256]\n",
            " [ 1.72010054  0.34463533]\n",
            " [ 1.39808223  1.04214436]\n",
            " [ 0.02170129 -0.41204997]\n",
            " [-0.61219581  1.58870509]\n",
            " [-0.96910182  0.88663603]\n",
            " [-0.95503289  0.8943171 ]\n",
            " [-1.04851123  0.98307586]\n",
            " [-0.55212776  1.0647443 ]\n",
            " [-0.81635027  1.13298228]\n",
            " [ 0.64222729  2.1938041 ]\n",
            " [-0.26670798  2.80304025]\n",
            " [-1.77799156  0.35490276]\n",
            " [-0.6067627   0.18863815]\n",
            " [-0.51955754  0.73216771]\n",
            " [ 0.8189043   2.35328334]\n",
            " [-2.01711626  1.6240823 ]\n",
            " [-0.04596653  1.05066585]\n",
            " [ 1.05412083  1.66943483]\n",
            " [-1.59862883  0.57848196]\n",
            " [-1.74030874  0.78229012]\n",
            " [-0.49623147  1.06855554]\n",
            " [-1.12734539  0.1472713 ]\n",
            " [-1.15170035  1.62191411]\n",
            " [ 0.33179524  0.27552438]\n",
            " [-0.52859057 -0.44884755]\n",
            " [-0.64523794  1.15051007]\n",
            " [ 0.35642123  0.94711411]\n",
            " [ 1.01834091  0.32264089]\n",
            " [ 1.81476921  1.10599226]\n",
            " [ 0.0992034   0.63358626]\n",
            " [-0.71662091 -0.44614256]\n",
            " [-0.76922348  1.24985064]\n",
            " [-0.76760492  1.37257995]\n",
            " [-1.21393603  2.05178948]\n",
            " [ 0.69788369 -0.41213424]\n",
            " [ 0.37101883  1.16967079]\n",
            " [-0.82126484  1.71517951]\n",
            " [ 0.47373055  1.69008103]\n",
            " [ 0.13975466  1.00530906]\n",
            " [-0.13353739  1.02525751]\n",
            " [ 0.08093643  0.72169809]\n",
            " [-0.36879182  0.21987887]\n",
            " [ 0.35090431 -0.21308737]\n",
            " [-0.41408115 -0.63563887]\n",
            " [-0.37554899  0.67372384]\n",
            " [-0.08408865  0.60299786]\n",
            " [ 0.17423559  0.67667261]\n",
            " [-0.35483516  1.13712561]\n",
            " [ 0.17019804  2.32935002]\n",
            " [ 0.48844884  1.33018906]\n",
            " [-2.44476133  1.30116274]\n",
            " [-2.66361414  1.91803926]\n",
            " [-2.00240923  1.64030335]\n",
            " [-1.29920656  0.08954303]\n",
            " [-1.59618421  1.91786872]\n",
            " [-1.65206124  1.93129088]\n",
            " [-0.25706321  1.40838147]\n",
            " [-0.59807603  0.76731025]\n",
            " [-0.24041265  1.23503945]\n",
            " [-1.83604654 -0.13904648]\n",
            " [ 2.1839075  -1.02403499]\n",
            " [ 1.43416496 -1.19397245]\n",
            " [ 1.73594461 -0.71664562]\n",
            " [ 3.48526049  0.5163894 ]\n",
            " [ 1.61770864 -0.4756969 ]\n",
            " [ 1.21979324 -1.19430553]\n",
            " [ 1.63310592 -0.94306397]\n",
            " [ 4.12263843 -1.51449781]\n",
            " [ 3.13988135 -1.69960174]\n",
            " [ 1.75176095  0.48217057]\n",
            " [ 1.31188819 -1.09209478]\n",
            " [ 2.70492448 -0.66632717]\n",
            " [ 3.59727696 -1.19662845]\n",
            " [ 3.66435787  0.21949974]\n",
            " [ 3.47450526 -0.41394953]\n",
            " [ 2.87798434  0.12277876]\n",
            " [ 3.18483636  0.85243038]\n",
            " [ 3.3632411  -1.54331746]\n",
            " [ 4.42426535 -1.42250607]\n",
            " [ 4.38747547 -0.95944755]\n",
            " [ 4.09385361 -0.32899334]\n",
            " [ 3.12416929  0.19051573]\n",
            " [ 3.0372813  -0.1216663 ]\n",
            " [ 2.72214024 -0.79771565]\n",
            " [ 2.81832003 -2.50695194]\n",
            " [ 1.72164036 -0.80139341]\n",
            " [ 3.43259452 -0.60282371]\n",
            " [ 3.30552042 -0.52712819]\n",
            " [ 2.60310891 -0.74826816]\n",
            " [ 2.98248961  0.15827651]\n",
            " [ 1.12890375 -0.06314284]\n",
            " [ 2.42812695  1.00978446]\n",
            " [ 3.25766855 -0.32037465]\n",
            " [ 3.19044921 -0.80811395]\n",
            " [ 3.12278245 -0.40992199]\n",
            " [ 2.8522418   0.5010195 ]\n",
            " [ 3.3440589   0.38538744]\n",
            " [ 2.08078802 -0.39900026]\n",
            " [ 4.09432486 -1.06469075]\n",
            " [ 2.78310347  0.69061111]\n",
            " [ 2.74764467  0.70727915]\n",
            " [ 3.07943653 -0.70884772]\n",
            " [ 3.38946502  0.90903239]\n",
            " [ 2.73942324 -2.20622003]\n",
            " [ 4.34708353 -1.25086366]\n",
            " [ 3.40013374  0.0879619 ]\n",
            " [ 2.93059751  0.12386127]\n",
            " [ 3.35399654 -0.14949674]\n",
            " [ 3.09480015  0.02311427]\n",
            " [ 3.93911687 -0.55512488]\n",
            " [ 3.69764802 -1.52973277]\n",
            " [ 2.30096221 -0.49838536]\n",
            " [ 0.74893873 -0.84745418]\n",
            " [ 2.78923925  0.67386288]\n",
            " [ 0.60230241  1.37201959]\n",
            " [ 3.0261039  -0.19659592]\n",
            " [ 2.65030513 -1.223152  ]\n",
            " [ 2.55123014  0.81610978]\n",
            " [ 3.82006248 -0.10531179]\n",
            " [ 1.79215013 -0.39597439]\n",
            " [ 2.8168315   0.77250687]\n",
            " [ 3.08315885  0.29133926]\n",
            " [ 0.6468023  -0.79251803]\n",
            " [ 0.96030821 -0.81531351]\n",
            " [ 0.86827367 -0.7301169 ]\n",
            " [ 2.14702122 -0.39855522]\n",
            " [ 0.74896184 -0.41712896]\n",
            " [ 0.67539517 -0.18476017]\n",
            " [ 1.42057251 -0.19351082]\n",
            " [-1.39713666 -1.20810696]\n",
            " [-1.13862654 -1.79700856]\n",
            " [-1.29037893 -1.10736988]\n",
            " [-1.94196813 -0.62158838]\n",
            " [-2.51441668 -1.04447682]\n",
            " [-3.02180124 -2.16810514]\n",
            " [-2.64798125  0.28333324]\n",
            " [-1.89439727  0.03689121]\n",
            " [-1.58845491 -0.10102414]\n",
            " [-3.24101645 -1.90864173]\n",
            " [-2.23713789 -0.9477373 ]\n",
            " [-2.51679114 -2.44364249]\n",
            " [-2.03432054 -1.23357393]\n",
            " [-2.9781983  -0.32779414]\n",
            " [-2.63114376 -0.58131089]\n",
            " [-3.006245   -1.74630677]\n",
            " [-2.5970291   0.52886537]\n",
            " [-2.54190988 -1.7475795 ]\n",
            " [-2.5919377  -1.62295162]\n",
            " [-2.71106996 -1.61991095]\n",
            " [-1.52774046 -0.33051482]\n",
            " [-2.04284365 -0.54123397]\n",
            " [-2.41590976 -0.83868844]\n",
            " [-1.76624131 -0.35522425]\n",
            " [-3.00874642 -1.05569887]\n",
            " [-1.86282212  1.46107483]\n",
            " [-1.95202594 -0.90086059]\n",
            " [-1.88528775 -0.42199715]\n",
            " [-2.9428555  -0.85420867]\n",
            " [-2.85631438 -1.45105838]\n",
            " [-2.92966099 -0.37627704]\n",
            " [-2.91097713 -1.1924455 ]\n",
            " [-3.26458275 -1.7706378 ]\n",
            " [-2.95490308 -0.17336457]\n",
            " [-2.97022953 -1.14901881]\n",
            " [-3.34358076 -0.77990609]\n",
            " [-2.84660419 -1.06730516]\n",
            " [-1.81961764  0.72319583]\n",
            " [-2.91998894 -0.23972307]\n",
            " [-1.76157168 -0.20956791]\n",
            " [-2.07252425 -0.46577755]\n",
            " [-2.49762727 -0.56206088]\n",
            " [-1.47574187 -1.42835544]\n",
            " [-2.70048461 -1.06014448]\n",
            " [-2.46197365 -1.61988225]\n",
            " [-3.22330846 -0.39592332]\n",
            " [-2.998932   -1.48560849]\n",
            " [-3.31693651  0.10318539]\n",
            " [-3.21762276 -0.98391275]\n",
            " [-2.71802113  0.11848183]\n",
            " [-1.95084808  0.73239594]\n",
            " [-3.27799458 -1.13873939]\n",
            " [-2.02885845  0.15917169]\n",
            " [-1.62755832  0.42667199]\n",
            " [-1.73242676 -0.12146101]\n",
            " [-1.13810797  0.26813715]\n",
            " [-1.67373928 -0.08787314]\n",
            " [-1.4932578   1.76796083]\n",
            " [-2.04701722 -0.58424207]\n",
            " [-2.85213137  0.52813521]\n",
            " [-1.88143571 -1.36111794]\n",
            " [-2.0474936   0.10522314]\n",
            " [-2.02790885  0.8815821 ]\n",
            " [-2.76843767 -0.18926865]\n",
            " [-1.4424518  -1.31847752]\n",
            " [-2.38153841  0.12344208]\n",
            " [-1.9963136  -0.51914788]]\n",
            "[[ 0.27275992  0.81630229]\n",
            " [-0.04385277  1.94805251]\n",
            " [-0.49384958  1.92156061]\n",
            " [-0.62781988  1.95026634]\n",
            " [ 1.06457375  2.09534909]\n",
            " [-0.37374848  1.65688234]\n",
            " [-0.18730219  0.45559256]\n",
            " [ 1.72010054  0.34463533]\n",
            " [ 1.39808223  1.04214436]\n",
            " [ 0.02170129 -0.41204997]\n",
            " [-0.61219581  1.58870509]\n",
            " [-0.96910182  0.88663603]\n",
            " [-0.95503289  0.8943171 ]\n",
            " [-1.04851123  0.98307586]\n",
            " [-0.55212776  1.0647443 ]\n",
            " [-0.81635027  1.13298228]\n",
            " [ 0.64222729  2.1938041 ]\n",
            " [-0.26670798  2.80304025]\n",
            " [-1.77799156  0.35490276]\n",
            " [-0.6067627   0.18863815]\n",
            " [-0.51955754  0.73216771]\n",
            " [ 0.8189043   2.35328334]\n",
            " [-2.01711626  1.6240823 ]\n",
            " [-0.04596653  1.05066585]\n",
            " [ 1.05412083  1.66943483]\n",
            " [-1.59862883  0.57848196]\n",
            " [-1.74030874  0.78229012]\n",
            " [-0.49623147  1.06855554]\n",
            " [-1.12734539  0.1472713 ]\n",
            " [-1.15170035  1.62191411]\n",
            " [ 0.33179524  0.27552438]\n",
            " [-0.52859057 -0.44884755]\n",
            " [-0.64523794  1.15051007]\n",
            " [ 0.35642123  0.94711411]\n",
            " [ 1.01834091  0.32264089]\n",
            " [ 1.81476921  1.10599226]\n",
            " [ 0.0992034   0.63358626]\n",
            " [-0.71662091 -0.44614256]\n",
            " [-0.76922348  1.24985064]\n",
            " [-0.76760492  1.37257995]\n",
            " [-1.21393603  2.05178948]\n",
            " [ 0.69788369 -0.41213424]\n",
            " [ 0.37101883  1.16967079]\n",
            " [-0.82126484  1.71517951]\n",
            " [ 0.47373055  1.69008103]\n",
            " [ 0.13975466  1.00530906]\n",
            " [-0.13353739  1.02525751]\n",
            " [ 0.08093643  0.72169809]\n",
            " [-0.36879182  0.21987887]\n",
            " [ 0.35090431 -0.21308737]\n",
            " [-0.41408115 -0.63563887]\n",
            " [-0.37554899  0.67372384]\n",
            " [-0.08408865  0.60299786]\n",
            " [ 0.17423559  0.67667261]\n",
            " [-0.35483516  1.13712561]\n",
            " [ 0.17019804  2.32935002]\n",
            " [ 0.48844884  1.33018906]\n",
            " [-2.44476133  1.30116274]\n",
            " [-2.66361414  1.91803926]\n",
            " [-2.00240923  1.64030335]\n",
            " [-1.29920656  0.08954303]\n",
            " [-1.59618421  1.91786872]\n",
            " [-1.65206124  1.93129088]\n",
            " [-0.25706321  1.40838147]\n",
            " [-0.59807603  0.76731025]\n",
            " [-0.24041265  1.23503945]\n",
            " [-1.83604654 -0.13904648]\n",
            " [ 2.1839075  -1.02403499]\n",
            " [ 1.43416496 -1.19397245]\n",
            " [ 1.73594461 -0.71664562]\n",
            " [ 3.48526049  0.5163894 ]\n",
            " [ 1.61770864 -0.4756969 ]\n",
            " [ 1.21979324 -1.19430553]\n",
            " [ 1.63310592 -0.94306397]\n",
            " [ 4.12263843 -1.51449781]\n",
            " [ 3.13988135 -1.69960174]\n",
            " [ 1.75176095  0.48217057]\n",
            " [ 1.31188819 -1.09209478]\n",
            " [ 2.70492448 -0.66632717]\n",
            " [ 3.59727696 -1.19662845]\n",
            " [ 3.66435787  0.21949974]\n",
            " [ 3.47450526 -0.41394953]\n",
            " [ 2.87798434  0.12277876]\n",
            " [ 3.18483636  0.85243038]\n",
            " [ 3.3632411  -1.54331746]\n",
            " [ 4.42426535 -1.42250607]\n",
            " [ 4.38747547 -0.95944755]\n",
            " [ 4.09385361 -0.32899334]\n",
            " [ 3.12416929  0.19051573]\n",
            " [ 3.0372813  -0.1216663 ]\n",
            " [ 2.72214024 -0.79771565]\n",
            " [ 2.81832003 -2.50695194]\n",
            " [ 1.72164036 -0.80139341]\n",
            " [ 3.43259452 -0.60282371]\n",
            " [ 3.30552042 -0.52712819]\n",
            " [ 2.60310891 -0.74826816]\n",
            " [ 2.98248961  0.15827651]\n",
            " [ 1.12890375 -0.06314284]\n",
            " [ 2.42812695  1.00978446]\n",
            " [ 3.25766855 -0.32037465]\n",
            " [ 3.19044921 -0.80811395]\n",
            " [ 3.12278245 -0.40992199]\n",
            " [ 2.8522418   0.5010195 ]\n",
            " [ 3.3440589   0.38538744]\n",
            " [ 2.08078802 -0.39900026]\n",
            " [ 4.09432486 -1.06469075]\n",
            " [ 2.78310347  0.69061111]\n",
            " [ 2.74764467  0.70727915]\n",
            " [ 3.07943653 -0.70884772]\n",
            " [ 3.38946502  0.90903239]\n",
            " [ 2.73942324 -2.20622003]\n",
            " [ 4.34708353 -1.25086366]\n",
            " [ 3.40013374  0.0879619 ]\n",
            " [ 2.93059751  0.12386127]\n",
            " [ 3.35399654 -0.14949674]\n",
            " [ 3.09480015  0.02311427]\n",
            " [ 3.93911687 -0.55512488]\n",
            " [ 3.69764802 -1.52973277]\n",
            " [ 2.30096221 -0.49838536]\n",
            " [ 0.74893873 -0.84745418]\n",
            " [ 2.78923925  0.67386288]\n",
            " [ 0.60230241  1.37201959]\n",
            " [ 3.0261039  -0.19659592]\n",
            " [ 2.65030513 -1.223152  ]\n",
            " [ 2.55123014  0.81610978]\n",
            " [ 3.82006248 -0.10531179]\n",
            " [ 1.79215013 -0.39597439]\n",
            " [ 2.8168315   0.77250687]\n",
            " [ 3.08315885  0.29133926]\n",
            " [ 0.6468023  -0.79251803]\n",
            " [ 0.96030821 -0.81531351]\n",
            " [ 0.86827367 -0.7301169 ]\n",
            " [ 2.14702122 -0.39855522]\n",
            " [ 0.74896184 -0.41712896]\n",
            " [ 0.67539517 -0.18476017]\n",
            " [ 1.42057251 -0.19351082]\n",
            " [-1.39713666 -1.20810696]\n",
            " [-1.13862654 -1.79700856]\n",
            " [-1.29037893 -1.10736988]\n",
            " [-1.94196813 -0.62158838]\n",
            " [-2.51441668 -1.04447682]\n",
            " [-3.02180124 -2.16810514]\n",
            " [-2.64798125  0.28333324]\n",
            " [-1.89439727  0.03689121]\n",
            " [-1.58845491 -0.10102414]\n",
            " [-3.24101645 -1.90864173]\n",
            " [-2.23713789 -0.9477373 ]\n",
            " [-2.51679114 -2.44364249]\n",
            " [-2.03432054 -1.23357393]\n",
            " [-2.9781983  -0.32779414]\n",
            " [-2.63114376 -0.58131089]\n",
            " [-3.006245   -1.74630677]\n",
            " [-2.5970291   0.52886537]\n",
            " [-2.54190988 -1.7475795 ]\n",
            " [-2.5919377  -1.62295162]\n",
            " [-2.71106996 -1.61991095]\n",
            " [-1.52774046 -0.33051482]\n",
            " [-2.04284365 -0.54123397]\n",
            " [-2.41590976 -0.83868844]\n",
            " [-1.76624131 -0.35522425]\n",
            " [-3.00874642 -1.05569887]\n",
            " [-1.86282212  1.46107483]\n",
            " [-1.95202594 -0.90086059]\n",
            " [-1.88528775 -0.42199715]\n",
            " [-2.9428555  -0.85420867]\n",
            " [-2.85631438 -1.45105838]\n",
            " [-2.92966099 -0.37627704]\n",
            " [-2.91097713 -1.1924455 ]\n",
            " [-3.26458275 -1.7706378 ]\n",
            " [-2.95490308 -0.17336457]\n",
            " [-2.97022953 -1.14901881]\n",
            " [-3.34358076 -0.77990609]\n",
            " [-2.84660419 -1.06730516]\n",
            " [-1.81961764  0.72319583]\n",
            " [-2.91998894 -0.23972307]\n",
            " [-1.76157168 -0.20956791]\n",
            " [-2.07252425 -0.46577755]\n",
            " [-2.49762727 -0.56206088]\n",
            " [-1.47574187 -1.42835544]\n",
            " [-2.70048461 -1.06014448]\n",
            " [-2.46197365 -1.61988225]\n",
            " [-3.22330846 -0.39592332]\n",
            " [-2.998932   -1.48560849]\n",
            " [-3.31693651  0.10318539]\n",
            " [-3.21762276 -0.98391275]\n",
            " [-2.71802113  0.11848183]\n",
            " [-1.95084808  0.73239594]\n",
            " [-3.27799458 -1.13873939]\n",
            " [-2.02885845  0.15917169]\n",
            " [-1.62755832  0.42667199]\n",
            " [-1.73242676 -0.12146101]\n",
            " [-1.13810797  0.26813715]\n",
            " [-1.67373928 -0.08787314]\n",
            " [-1.4932578   1.76796083]\n",
            " [-2.04701722 -0.58424207]\n",
            " [-2.85213137  0.52813521]\n",
            " [-1.88143571 -1.36111794]\n",
            " [-2.0474936   0.10522314]\n",
            " [-2.02790885  0.8815821 ]\n",
            " [-2.76843767 -0.18926865]\n",
            " [-1.4424518  -1.31847752]\n",
            " [-2.38153841  0.12344208]\n",
            " [-1.9963136  -0.51914788]]\n"
          ]
        }
      ]
    },
    {
      "cell_type": "code",
      "source": [
        "from sklearn.cluster import KMeans\n",
        "cluster=KMeans(n_clusters= 3, max_iter=300).fit_predict(pcs2)\n",
        "cluster"
      ],
      "metadata": {
        "colab": {
          "base_uri": "https://localhost:8080/"
        },
        "id": "CAzUc7Y5f5yK",
        "outputId": "c1a61397-5104-463b-b930-50275b3d9564"
      },
      "execution_count": 27,
      "outputs": [
        {
          "output_type": "stream",
          "name": "stderr",
          "text": [
            "/usr/local/lib/python3.10/dist-packages/sklearn/cluster/_kmeans.py:870: FutureWarning: The default value of `n_init` will change from 10 to 'auto' in 1.4. Set the value of `n_init` explicitly to suppress the warning\n",
            "  warnings.warn(\n"
          ]
        },
        {
          "output_type": "execute_result",
          "data": {
            "text/plain": [
              "array([2, 2, 2, 2, 2, 2, 2, 0, 2, 2, 2, 2, 2, 2, 2, 2, 2, 2, 1, 2, 2, 2,\n",
              "       2, 2, 2, 2, 2, 2, 2, 2, 2, 2, 2, 2, 2, 0, 2, 2, 2, 2, 2, 2, 2, 2,\n",
              "       2, 2, 2, 2, 2, 2, 2, 2, 2, 2, 2, 2, 2, 1, 2, 2, 1, 2, 2, 2, 2, 2,\n",
              "       1, 0, 0, 0, 0, 0, 0, 0, 0, 0, 0, 0, 0, 0, 0, 0, 0, 0, 0, 0, 0, 0,\n",
              "       0, 0, 0, 0, 0, 0, 0, 0, 0, 0, 0, 0, 0, 0, 0, 0, 0, 0, 0, 0, 0, 0,\n",
              "       0, 0, 0, 0, 0, 0, 0, 0, 0, 0, 0, 2, 0, 0, 0, 0, 0, 0, 0, 2, 0, 0,\n",
              "       0, 2, 2, 0, 1, 1, 1, 1, 1, 1, 1, 1, 1, 1, 1, 1, 1, 1, 1, 1, 1, 1,\n",
              "       1, 1, 1, 1, 1, 1, 1, 2, 1, 1, 1, 1, 1, 1, 1, 1, 1, 1, 1, 1, 1, 1,\n",
              "       1, 1, 1, 1, 1, 1, 1, 1, 1, 1, 1, 1, 1, 1, 1, 2, 1, 2, 1, 1, 1, 1,\n",
              "       1, 1, 1, 1, 1], dtype=int32)"
            ]
          },
          "metadata": {},
          "execution_count": 27
        }
      ]
    },
    {
      "cell_type": "code",
      "source": [
        "plt.figure()\n",
        "plt.scatter(pcs[:, 0], pcs[:, 1], alpha=0.8, c=cluster)\n",
        "plt.show()"
      ],
      "metadata": {
        "colab": {
          "base_uri": "https://localhost:8080/",
          "height": 431
        },
        "id": "dCAJ-k9bf5vi",
        "outputId": "4167961b-7a42-4346-c6c0-20718ad1e4b6"
      },
      "execution_count": 28,
      "outputs": [
        {
          "output_type": "display_data",
          "data": {
            "text/plain": [
              "<Figure size 640x480 with 1 Axes>"
            ],
            "image/png": "[encoded data removed]"
          },
          "metadata": {}
        }
      ]
    }
  ]
}